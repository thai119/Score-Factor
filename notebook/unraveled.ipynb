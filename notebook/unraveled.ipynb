{
 "cells": [
  {
   "cell_type": "code",
   "execution_count": 1,
   "id": "initial_id",
   "metadata": {
    "collapsed": true,
    "ExecuteTime": {
     "end_time": "2024-11-13T01:49:46.308271Z",
     "start_time": "2024-11-13T01:49:43.176450Z"
    }
   },
   "outputs": [],
   "source": [
    "import pandas as pd\n",
    "# import matplotlib.pyplot as plt\n",
    "import yaml\n",
    "import os\n",
    "import glob\n",
    "\n",
    "import sys\n",
    "sys.path.append('../')\n",
    "from utils import *"
   ]
  },
  {
   "cell_type": "code",
   "outputs": [],
   "source": [
    "with open(\"../config.yaml\", \"r\") as yamlfile:\n",
    "    cfg = yaml.safe_load(yamlfile)\n",
    "\n",
    "for section in cfg:\n",
    "    RANDOM_STATE_SEED = cfg[\"variables\"][\"RANDOM_STATE_SEED\"]\n",
    "    THRESHOLD = cfg[\"variables\"][\"THRESHOLD\"]\n",
    "    THRESHOLD_LOSS = cfg[\"variables\"][\"THRESHOLD_LOSS\"]\n",
    "\n",
    "    PROCESSED_DATA_DIR = cfg[\"data_path\"][\"PROCESSED_DATA_DIR\"]\n",
    "\n",
    "DATA_DIR = 'D:/code/gr1/data/unraveled/data/network_flows'"
   ],
   "metadata": {
    "collapsed": false,
    "ExecuteTime": {
     "end_time": "2024-11-13T01:49:46.316180Z",
     "start_time": "2024-11-13T01:49:46.309802Z"
    }
   },
   "id": "2fb011cfb33debfa",
   "execution_count": 2
  },
  {
   "cell_type": "code",
   "outputs": [],
   "source": [
    "dataset_paths = [os.path.join(DATA_DIR,  dataset_path) for dataset_path in os.listdir(DATA_DIR)]\n",
    "all_csv_files = []\n",
    "for dataset_path in dataset_paths:\n",
    "    csv_files_directory = glob.glob(dataset_path + '/*.csv')\n",
    "    all_csv_files.extend(csv_files_directory)"
   ],
   "metadata": {
    "collapsed": false,
    "ExecuteTime": {
     "end_time": "2024-11-13T01:49:46.346213Z",
     "start_time": "2024-11-13T01:49:46.316719Z"
    }
   },
   "id": "3985efed2201a576",
   "execution_count": 3
  },
  {
   "cell_type": "code",
   "outputs": [],
   "source": [
    "all_csv_files = ['D:/code/gr1/data/unraveled/data/network_flows/Week1_Day1-2_05262021-05272021/net1011x_Flow_labeled.csv', 'D:/code/gr1/data/unraveled/data/network_flows/Week1_Day1-2_05262021-05272021/net1012x_Flow_labeled.csv', 'D:/code/gr1/data/unraveled/data/network_flows/Week1_Day1-2_05262021-05272021/net1013x_Flow_labeled.csv', 'D:/code/gr1/data/unraveled/data/network_flows/Week1_Day1-2_05262021-05272021/net1014x_Flow_labeled.csv', 'D:/code/gr1/data/unraveled/data/network_flows/Week1_Day1-2_05262021-05272021/net1015x_Flow_labeled.csv', 'D:/code/gr1/data/unraveled/data/network_flows/Week1_Day3_05282021/net1011x_Flow_labeled.csv', 'D:/code/gr1/data/unraveled/data/network_flows/Week1_Day3_05282021/net1012x_Flow_labeled.csv', 'D:/code/gr1/data/unraveled/data/network_flows/Week1_Day3_05282021/net1013x_Flow_labeled.csv', 'D:/code/gr1/data/unraveled/data/network_flows/Week1_Day3_05282021/net1014x_Flow_labeled.csv', 'D:/code/gr1/data/unraveled/data/network_flows/Week1_Day3_05282021/net1015x_Flow_labeled.csv', 'D:/code/gr1/data/unraveled/data/network_flows/Week1_Day4_05292021/net1011x_Flow_labeled.csv', 'D:/code/gr1/data/unraveled/data/network_flows/Week1_Day4_05292021/net1012x_Flow_labeled.csv', 'D:/code/gr1/data/unraveled/data/network_flows/Week1_Day4_05292021/net1013x_Flow_labeled.csv', 'D:/code/gr1/data/unraveled/data/network_flows/Week1_Day4_05292021/net1014x_Flow_labeled.csv', 'D:/code/gr1/data/unraveled/data/network_flows/Week1_Day4_05292021/net1015x_Flow_labeled.csv', 'D:/code/gr1/data/unraveled/data/network_flows/Week1_Day5_05302021/net1011x_Flow_labeled.csv', 'D:/code/gr1/data/unraveled/data/network_flows/Week1_Day5_05302021/net1012x_Flow_labeled.csv', 'D:/code/gr1/data/unraveled/data/network_flows/Week1_Day5_05302021/net1013x_Flow_labeled.csv', 'D:/code/gr1/data/unraveled/data/network_flows/Week1_Day5_05302021/net1014x_Flow_labeled.csv', 'D:/code/gr1/data/unraveled/data/network_flows/Week1_Day5_05302021/net1015x_Flow_labeled.csv', 'D:/code/gr1/data/unraveled/data/network_flows/Week2_Day1_05312021/net1011x_Flow_labeled.csv', 'D:/code/gr1/data/unraveled/data/network_flows/Week2_Day1_05312021/net1012x_Flow_labeled.csv', 'D:/code/gr1/data/unraveled/data/network_flows/Week2_Day1_05312021/net1013x_Flow_labeled.csv', 'D:/code/gr1/data/unraveled/data/network_flows/Week2_Day1_05312021/net1014x_Flow_labeled.csv', 'D:/code/gr1/data/unraveled/data/network_flows/Week2_Day1_05312021/net1015x_Flow_labeled.csv', 'D:/code/gr1/data/unraveled/data/network_flows/Week2_Day2_06012021/net1011x_Flow_labeled.csv', 'D:/code/gr1/data/unraveled/data/network_flows/Week2_Day2_06012021/net1012x_Flow_labeled.csv', 'D:/code/gr1/data/unraveled/data/network_flows/Week2_Day2_06012021/net1013x_Flow_labeled.csv', 'D:/code/gr1/data/unraveled/data/network_flows/Week2_Day2_06012021/net1014x_Flow_labeled.csv', 'D:/code/gr1/data/unraveled/data/network_flows/Week2_Day2_06012021/net1015x_Flow_labeled.csv', 'D:/code/gr1/data/unraveled/data/network_flows/Week2_Day2_06012021/netgw_Flow_labeled.csv', 'D:/code/gr1/data/unraveled/data/network_flows/Week2_Day3_06022021/net1011x_Flow_labeled.csv', 'D:/code/gr1/data/unraveled/data/network_flows/Week2_Day3_06022021/net1012x_Flow_labeled.csv', 'D:/code/gr1/data/unraveled/data/network_flows/Week2_Day3_06022021/net1013x_Flow_labeled.csv', 'D:/code/gr1/data/unraveled/data/network_flows/Week2_Day3_06022021/net1014x_Flow_labeled.csv', 'D:/code/gr1/data/unraveled/data/network_flows/Week2_Day3_06022021/net1015x_Flow_labeled.csv', 'D:/code/gr1/data/unraveled/data/network_flows/Week2_Day3_06022021/netgw_Flow_labeled.csv', 'D:/code/gr1/data/unraveled/data/network_flows/Week2_Day4_06032021/net1011x_Flow_labeled.csv', 'D:/code/gr1/data/unraveled/data/network_flows/Week2_Day4_06032021/net1012x_Flow_labeled.csv', 'D:/code/gr1/data/unraveled/data/network_flows/Week2_Day4_06032021/net1013x_Flow_labeled.csv', 'D:/code/gr1/data/unraveled/data/network_flows/Week2_Day4_06032021/net1014x_Flow_labeled.csv', 'D:/code/gr1/data/unraveled/data/network_flows/Week2_Day4_06032021/net1015x_Flow_labeled.csv', 'D:/code/gr1/data/unraveled/data/network_flows/Week2_Day4_06032021/netgw_Flow_labeled.csv', 'D:/code/gr1/data/unraveled/data/network_flows/Week2_Day5-7_06042021-06062021/net1011x_Flow_labeled.csv', 'D:/code/gr1/data/unraveled/data/network_flows/Week2_Day5-7_06042021-06062021/net1012x_Flow_labeled.csv', 'D:/code/gr1/data/unraveled/data/network_flows/Week2_Day5-7_06042021-06062021/net1013x_Flow_labeled.csv', 'D:/code/gr1/data/unraveled/data/network_flows/Week2_Day5-7_06042021-06062021/net1014x_Flow_labeled.csv', 'D:/code/gr1/data/unraveled/data/network_flows/Week2_Day5-7_06042021-06062021/net1015x_Flow_labeled.csv', 'D:/code/gr1/data/unraveled/data/network_flows/Week2_Day5-7_06042021-06062021/netgw_Flow_labeled.csv', 'D:/code/gr1/data/unraveled/data/network_flows/Week3_Day1_06072021/net1011x_Flow_labeled.csv', 'D:/code/gr1/data/unraveled/data/network_flows/Week3_Day1_06072021/net1012x_Flow_labeled.csv', 'D:/code/gr1/data/unraveled/data/network_flows/Week3_Day1_06072021/net1013x_Flow_labeled.csv', 'D:/code/gr1/data/unraveled/data/network_flows/Week3_Day1_06072021/net1014x_Flow_labeled.csv', 'D:/code/gr1/data/unraveled/data/network_flows/Week3_Day1_06072021/net1015x_Flow_labeled.csv', 'D:/code/gr1/data/unraveled/data/network_flows/Week3_Day1_06072021/netgw_Flow_labeled.csv', 'D:/code/gr1/data/unraveled/data/network_flows/Week3_Day2_06082021/net1011x_Flow_labeled.csv', 'D:/code/gr1/data/unraveled/data/network_flows/Week3_Day2_06082021/net1012x_Flow_labeled.csv', 'D:/code/gr1/data/unraveled/data/network_flows/Week3_Day2_06082021/net1013x_Flow_labeled.csv', 'D:/code/gr1/data/unraveled/data/network_flows/Week3_Day2_06082021/net1014x_Flow_labeled.csv', 'D:/code/gr1/data/unraveled/data/network_flows/Week3_Day2_06082021/net1015x_Flow_labeled.csv', 'D:/code/gr1/data/unraveled/data/network_flows/Week3_Day2_06082021/netgw_Flow_labeled.csv', 'D:/code/gr1/data/unraveled/data/network_flows/Week3_Day3_06092021/net1011x_Flow_labeled.csv', 'D:/code/gr1/data/unraveled/data/network_flows/Week3_Day3_06092021/net1012x_Flow_labeled.csv', 'D:/code/gr1/data/unraveled/data/network_flows/Week3_Day3_06092021/net1013x_Flow_labeled.csv', 'D:/code/gr1/data/unraveled/data/network_flows/Week3_Day3_06092021/net1014x_Flow_labeled.csv', 'D:/code/gr1/data/unraveled/data/network_flows/Week3_Day3_06092021/net1015x_Flow_labeled.csv', 'D:/code/gr1/data/unraveled/data/network_flows/Week3_Day3_06092021/netgw_Flow_labeled.csv', 'D:/code/gr1/data/unraveled/data/network_flows/Week3_Day4_06102021/netgw_Flow_labeled.csv', 'D:/code/gr1/data/unraveled/data/network_flows/Week3_Day5-7_06112021-06132021/net1011x_Flow_labeled.csv', 'D:/code/gr1/data/unraveled/data/network_flows/Week3_Day5-7_06112021-06132021/net1012x_Flow_labeled.csv', 'D:/code/gr1/data/unraveled/data/network_flows/Week3_Day5-7_06112021-06132021/net1013x_Flow_labeled.csv', 'D:/code/gr1/data/unraveled/data/network_flows/Week3_Day5-7_06112021-06132021/net1014x_Flow_labeled.csv', 'D:/code/gr1/data/unraveled/data/network_flows/Week3_Day5-7_06112021-06132021/net1015x_Flow_labeled.csv', 'D:/code/gr1/data/unraveled/data/network_flows/Week3_Day5-7_06112021-06132021/netgw_Flow_labeled.csv', 'D:/code/gr1/data/unraveled/data/network_flows/Week4_Day03_06162021/net1011x_Flow_labeled.csv', 'D:/code/gr1/data/unraveled/data/network_flows/Week4_Day03_06162021/net1012x_Flow_labeled.csv', 'D:/code/gr1/data/unraveled/data/network_flows/Week4_Day03_06162021/net1013x_Flow_labeled.csv', 'D:/code/gr1/data/unraveled/data/network_flows/Week4_Day03_06162021/net1014x_Flow_labeled.csv', 'D:/code/gr1/data/unraveled/data/network_flows/Week4_Day03_06162021/net1015x_Flow_labeled.csv', 'D:/code/gr1/data/unraveled/data/network_flows/Week4_Day03_06162021/netgw_Flow_labeled.csv', 'D:/code/gr1/data/unraveled/data/network_flows/Week4_Day1_06152021/net1011x_Flow_labeled.csv', 'D:/code/gr1/data/unraveled/data/network_flows/Week4_Day1_06152021/net1012x_Flow_labeled.csv', 'D:/code/gr1/data/unraveled/data/network_flows/Week4_Day1_06152021/net1013x_Flow_labeled.csv', 'D:/code/gr1/data/unraveled/data/network_flows/Week4_Day1_06152021/net1014x_Flow_labeled.csv', 'D:/code/gr1/data/unraveled/data/network_flows/Week4_Day1_06152021/net1015x_Flow_labeled.csv', 'D:/code/gr1/data/unraveled/data/network_flows/Week4_Day1_06152021/netgw_Flow_labeled.csv', 'D:/code/gr1/data/unraveled/data/network_flows/Week4_Day2_06152021/net1011x_Flow_labeled.csv', 'D:/code/gr1/data/unraveled/data/network_flows/Week4_Day2_06152021/net1011x_Week4_Day2_06152021_part_Flow_labeled.csv', 'D:/code/gr1/data/unraveled/data/network_flows/Week4_Day2_06152021/net1012x_Flow_labeled.csv', 'D:/code/gr1/data/unraveled/data/network_flows/Week4_Day2_06152021/net1012x_Week4_Day2_06152021_part_Flow_labeled.csv', 'D:/code/gr1/data/unraveled/data/network_flows/Week4_Day2_06152021/net1013x_Flow_labeled.csv', 'D:/code/gr1/data/unraveled/data/network_flows/Week4_Day2_06152021/net1013x_Week4_Day2_06152021_part_Flow_labeled.csv', 'D:/code/gr1/data/unraveled/data/network_flows/Week4_Day2_06152021/net1014x_Flow_labeled.csv', 'D:/code/gr1/data/unraveled/data/network_flows/Week4_Day2_06152021/net1014x_Week4_Day2_06152021_part_Flow_labeled.csv', 'D:/code/gr1/data/unraveled/data/network_flows/Week4_Day2_06152021/net1015x_Flow_labeled.csv', 'D:/code/gr1/data/unraveled/data/network_flows/Week4_Day2_06152021/net1015x_Week4_Day2_06152021_part_Flow_labeled.csv', 'D:/code/gr1/data/unraveled/data/network_flows/Week4_Day2_06152021/netgw_Flow_labeled.csv', 'D:/code/gr1/data/unraveled/data/network_flows/Week4_Day3_7_06162021_06202021/net1011x_Flow_labeled.csv', 'D:/code/gr1/data/unraveled/data/network_flows/Week4_Day3_7_06162021_06202021/net1012x_Flow_labeled.csv', 'D:/code/gr1/data/unraveled/data/network_flows/Week4_Day3_7_06162021_06202021/net1013x_Flow_labeled.csv', 'D:/code/gr1/data/unraveled/data/network_flows/Week4_Day3_7_06162021_06202021/net1014x_Flow_labeled.csv', 'D:/code/gr1/data/unraveled/data/network_flows/Week4_Day3_7_06162021_06202021/net1015x_Flow_labeled.csv', 'D:/code/gr1/data/unraveled/data/network_flows/Week4_Day3_7_06162021_06202021/netgw_Flow_labeled.csv', 'D:/code/gr1/data/unraveled/data/network_flows/Week4_Day4_06172021/net1011x_Flow_labeled.csv', 'D:/code/gr1/data/unraveled/data/network_flows/Week4_Day4_06172021/net1012x_Flow_labeled.csv', 'D:/code/gr1/data/unraveled/data/network_flows/Week4_Day4_06172021/net1013x_Flow_labeled.csv', 'D:/code/gr1/data/unraveled/data/network_flows/Week4_Day4_06172021/net1014x_Flow_labeled.csv', 'D:/code/gr1/data/unraveled/data/network_flows/Week4_Day4_06172021/net1015x_Flow_labeled.csv', 'D:/code/gr1/data/unraveled/data/network_flows/Week4_Day4_06172021/netgw_Flow_labeled.csv', 'D:/code/gr1/data/unraveled/data/network_flows/Week5_Day1_06212021/net1011x_Flow_labeled.csv', 'D:/code/gr1/data/unraveled/data/network_flows/Week5_Day1_06212021/net1012x_Flow_labeled.csv', 'D:/code/gr1/data/unraveled/data/network_flows/Week5_Day1_06212021/net1013x_Flow_labeled.csv', 'D:/code/gr1/data/unraveled/data/network_flows/Week5_Day1_06212021/net1014x_Flow_labeled.csv', 'D:/code/gr1/data/unraveled/data/network_flows/Week5_Day1_06212021/net1015x_Flow_labeled.csv', 'D:/code/gr1/data/unraveled/data/network_flows/Week5_Day1_06212021/netgw_Flow_labeled.csv', 'D:/code/gr1/data/unraveled/data/network_flows/Week5_Day2_06222021/net1012x_Flow_labeled.csv', 'D:/code/gr1/data/unraveled/data/network_flows/Week5_Day2_06222021/net1013x_Flow_labeled.csv', 'D:/code/gr1/data/unraveled/data/network_flows/Week5_Day2_06222021/net1014x_Flow_labeled.csv', 'D:/code/gr1/data/unraveled/data/network_flows/Week5_Day2_06222021/net1015x_Flow_labeled.csv', 'D:/code/gr1/data/unraveled/data/network_flows/Week5_Day2_06222021/netgw_Flow_labeled.csv', 'D:/code/gr1/data/unraveled/data/network_flows/Week5_Day3_06232021/net1011x_Flow_labeled.csv', 'D:/code/gr1/data/unraveled/data/network_flows/Week5_Day3_06232021/net1012x_Flow_labeled.csv', 'D:/code/gr1/data/unraveled/data/network_flows/Week5_Day3_06232021/net1013x_Flow_labeled.csv', 'D:/code/gr1/data/unraveled/data/network_flows/Week5_Day3_06232021/net1014x_Flow_labeled.csv', 'D:/code/gr1/data/unraveled/data/network_flows/Week5_Day3_06232021/net1015x_Flow_labeled.csv', 'D:/code/gr1/data/unraveled/data/network_flows/Week5_Day3_06232021/netgw_Flow_labeled.csv', 'D:/code/gr1/data/unraveled/data/network_flows/Week5_Day4_06242021/net1013x_Flow_labeled.csv', 'D:/code/gr1/data/unraveled/data/network_flows/Week5_Day4_06242021/net1014x_Flow_labeled.csv', 'D:/code/gr1/data/unraveled/data/network_flows/Week5_Day4_06242021/net1015x_Flow_labeled.csv', 'D:/code/gr1/data/unraveled/data/network_flows/Week5_Day4_06242021/netgw_Flow_labeled.csv', 'D:/code/gr1/data/unraveled/data/network_flows/Week5_Day5-6_06252021-06262021/net1011x_Flow_labeled.csv', 'D:/code/gr1/data/unraveled/data/network_flows/Week5_Day5-6_06252021-06262021/net1012x_Flow_labeled.csv', 'D:/code/gr1/data/unraveled/data/network_flows/Week5_Day5-6_06252021-06262021/net1013x_Flow_labeled.csv', 'D:/code/gr1/data/unraveled/data/network_flows/Week5_Day5-6_06252021-06262021/net1014x_Flow_labeled.csv', 'D:/code/gr1/data/unraveled/data/network_flows/Week5_Day5-6_06252021-06262021/net1015x_Flow_labeled.csv', 'D:/code/gr1/data/unraveled/data/network_flows/Week5_Day5-6_06252021-06262021/netgw_Flow_labeled.csv', 'D:/code/gr1/data/unraveled/data/network_flows/Week5_Day6_06272021/net1011x_Flow_labeled.csv', 'D:/code/gr1/data/unraveled/data/network_flows/Week5_Day6_06272021/net1012x_Flow_labeled.csv', 'D:/code/gr1/data/unraveled/data/network_flows/Week5_Day6_06272021/net1013x_Flow_labeled.csv', 'D:/code/gr1/data/unraveled/data/network_flows/Week5_Day6_06272021/net1014x_Flow_labeled.csv', 'D:/code/gr1/data/unraveled/data/network_flows/Week5_Day6_06272021/net1015x_Flow_labeled.csv', 'D:/code/gr1/data/unraveled/data/network_flows/Week5_Day6_06272021/netgw_Flow_labeled.csv', 'D:/code/gr1/data/unraveled/data/network_flows/Week6_Day2_06292021/net1011x_Flow_labeled.csv', 'D:/code/gr1/data/unraveled/data/network_flows/Week6_Day2_06292021/net1012x_Flow_labeled.csv', 'D:/code/gr1/data/unraveled/data/network_flows/Week6_Day2_06292021/net1013x_Flow_labeled.csv', 'D:/code/gr1/data/unraveled/data/network_flows/Week6_Day2_06292021/net1014x_Flow_labeled.csv', 'D:/code/gr1/data/unraveled/data/network_flows/Week6_Day2_06292021/net1015x_Flow_labeled.csv', 'D:/code/gr1/data/unraveled/data/network_flows/Week6_Day2_06292021/netgw_Flow_labeled.csv', 'D:/code/gr1/data/unraveled/data/network_flows/Week6_Day3_06302021/net1011x_Flow_labeled.csv', 'D:/code/gr1/data/unraveled/data/network_flows/Week6_Day3_06302021/net1012x_Flow_labeled.csv', 'D:/code/gr1/data/unraveled/data/network_flows/Week6_Day3_06302021/net1013x_Flow_labeled.csv', 'D:/code/gr1/data/unraveled/data/network_flows/Week6_Day3_06302021/net1014x_Flow_labeled.csv', 'D:/code/gr1/data/unraveled/data/network_flows/Week6_Day3_06302021/net1015x_Flow_labeled.csv', 'D:/code/gr1/data/unraveled/data/network_flows/Week6_Day3_06302021/netgw_Flow_labeled.csv', 'D:/code/gr1/data/unraveled/data/network_flows/Week6_Day4_07012021/net1011x_Flow_labeled.csv', 'D:/code/gr1/data/unraveled/data/network_flows/Week6_Day4_07012021/net1012x_Flow_labeled.csv', 'D:/code/gr1/data/unraveled/data/network_flows/Week6_Day4_07012021/net1013x_Flow_labeled.csv', 'D:/code/gr1/data/unraveled/data/network_flows/Week6_Day4_07012021/net1014x_Flow_labeled.csv', 'D:/code/gr1/data/unraveled/data/network_flows/Week6_Day4_07012021/net1015x_Flow_labeled.csv', 'D:/code/gr1/data/unraveled/data/network_flows/Week6_Day4_07012021/netgw_Flow_labeled.csv', 'D:/code/gr1/data/unraveled/data/network_flows/Week6_Day5_07022021_part1/netgw_Flow_labeled.csv', 'D:/code/gr1/data/unraveled/data/network_flows/Week6_Day5_07022021_part2/net1011x_Flow_labeled.csv', 'D:/code/gr1/data/unraveled/data/network_flows/Week6_Day5_07022021_part2/net1012x_Flow_labeled.csv', 'D:/code/gr1/data/unraveled/data/network_flows/Week6_Day5_07022021_part2/net1013x_Flow_labeled.csv', 'D:/code/gr1/data/unraveled/data/network_flows/Week6_Day5_07022021_part2/net1014x_Flow_labeled.csv', 'D:/code/gr1/data/unraveled/data/network_flows/Week6_Day5_07022021_part2/net1015x_Flow_labeled.csv', 'D:/code/gr1/data/unraveled/data/network_flows/Week6_Day5_07022021_part2/netgw_Flow_labeled.csv', 'D:/code/gr1/data/unraveled/data/network_flows/Week6_Day6-7_07032021-07042021/net1011x_Flow_labeled.csv', 'D:/code/gr1/data/unraveled/data/network_flows/Week6_Day6-7_07032021-07042021/net1012x_Flow_labeled.csv', 'D:/code/gr1/data/unraveled/data/network_flows/Week6_Day6-7_07032021-07042021/net1013x_Flow_labeled.csv', 'D:/code/gr1/data/unraveled/data/network_flows/Week6_Day6-7_07032021-07042021/net1014x_Flow_labeled.csv', 'D:/code/gr1/data/unraveled/data/network_flows/Week6_Day6-7_07032021-07042021/net1015x_Flow_labeled.csv', 'D:/code/gr1/data/unraveled/data/network_flows/Week6_Day6-7_07032021-07042021/netgw_Flow_labeled.csv'];"
   ],
   "metadata": {
    "collapsed": false,
    "ExecuteTime": {
     "end_time": "2024-11-13T01:49:46.375409Z",
     "start_time": "2024-11-13T01:49:46.347302Z"
    }
   },
   "id": "78e36853699e0a13",
   "execution_count": 4
  },
  {
   "cell_type": "code",
   "outputs": [],
   "source": [
    "# all_dataframes = {}\n",
    "\n",
    "if not os.path.exists(PROCESSED_DATA_DIR):\n",
    "    os.mkdir(PROCESSED_DATA_DIR)"
   ],
   "metadata": {
    "collapsed": false,
    "ExecuteTime": {
     "end_time": "2024-11-11T16:02:47.363187Z",
     "start_time": "2024-11-11T16:02:47.359456Z"
    }
   },
   "id": "84aee09cb6f2002c",
   "execution_count": 5
  },
  {
   "cell_type": "code",
   "outputs": [
    {
     "name": "stdout",
     "output_type": "stream",
     "text": [
      "Number of apt2021 files: 173\n"
     ]
    }
   ],
   "source": [
    "print(f'Number of apt2021 files: {len(all_csv_files)}')\n"
   ],
   "metadata": {
    "collapsed": false,
    "ExecuteTime": {
     "end_time": "2024-11-11T16:02:48.114422Z",
     "start_time": "2024-11-11T16:02:48.109100Z"
    }
   },
   "id": "9110a8779b68b92d",
   "execution_count": 6
  },
  {
   "cell_type": "code",
   "outputs": [],
   "source": [
    "apt_files = []\n",
    "\n",
    "def get_apt_files(csv_file, threshold):\n",
    "    try:\n",
    "        # Đọc tệp CSV với low_memory=False để xử lý kiểu dữ liệu hỗn hợp\n",
    "        df = pd.read_csv(csv_file, on_bad_lines='skip', low_memory=False)\n",
    "        if 'Stage' in df.columns and 'Benign' in df['Stage'].value_counts():\n",
    "            # Tính phần trăm của các trường hợp 'Benign' và so sánh với ngưỡng\n",
    "            benign_percentage = (df['Stage'].value_counts()['Benign'] / len(df)) * 100\n",
    "            if benign_percentage < threshold:\n",
    "                print(f'Tệp: {csv_file}')\n",
    "                apt_files.append(csv_file)\n",
    "                print('-------------------------------------------------------------------------')\n",
    "    except pd.errors.ParserError as e:\n",
    "        print(f'Lỗi phân tích cú pháp {csv_file}: {e}')\n",
    "    except Exception as e:\n",
    "        print(f'Lỗi không mong đợi với {csv_file}: {e}')\n",
    "\n"
   ],
   "metadata": {
    "collapsed": false,
    "ExecuteTime": {
     "end_time": "2024-11-11T16:02:51.162497Z",
     "start_time": "2024-11-11T16:02:51.157593Z"
    }
   },
   "id": "26d77d375a4b936a",
   "execution_count": 7
  },
  {
   "cell_type": "code",
   "outputs": [
    {
     "name": "stdout",
     "output_type": "stream",
     "text": [
      "Tệp: D:/code/gr1/data/unraveled/data/network_flows/Week5_Day1_06212021/net1013x_Flow_labeled.csv\n",
      "-------------------------------------------------------------------------\n",
      "Tệp: D:/code/gr1/data/unraveled/data/network_flows/Week5_Day2_06222021/net1013x_Flow_labeled.csv\n",
      "-------------------------------------------------------------------------\n",
      "Tệp: D:/code/gr1/data/unraveled/data/network_flows/Week5_Day2_06222021/netgw_Flow_labeled.csv\n",
      "-------------------------------------------------------------------------\n",
      "Tệp: D:/code/gr1/data/unraveled/data/network_flows/Week5_Day3_06232021/net1013x_Flow_labeled.csv\n",
      "-------------------------------------------------------------------------\n",
      "Tệp: D:/code/gr1/data/unraveled/data/network_flows/Week5_Day3_06232021/netgw_Flow_labeled.csv\n",
      "-------------------------------------------------------------------------\n",
      "Tệp: D:/code/gr1/data/unraveled/data/network_flows/Week5_Day4_06242021/net1013x_Flow_labeled.csv\n",
      "-------------------------------------------------------------------------\n",
      "Tệp: D:/code/gr1/data/unraveled/data/network_flows/Week5_Day4_06242021/netgw_Flow_labeled.csv\n",
      "-------------------------------------------------------------------------\n",
      "Tệp: D:/code/gr1/data/unraveled/data/network_flows/Week5_Day5-6_06252021-06262021/net1013x_Flow_labeled.csv\n",
      "-------------------------------------------------------------------------\n",
      "Tệp: D:/code/gr1/data/unraveled/data/network_flows/Week5_Day5-6_06252021-06262021/netgw_Flow_labeled.csv\n",
      "-------------------------------------------------------------------------\n",
      "Tệp: D:/code/gr1/data/unraveled/data/network_flows/Week5_Day6_06272021/net1013x_Flow_labeled.csv\n",
      "-------------------------------------------------------------------------\n",
      "Tệp: D:/code/gr1/data/unraveled/data/network_flows/Week5_Day6_06272021/netgw_Flow_labeled.csv\n",
      "-------------------------------------------------------------------------\n",
      "Tệp: D:/code/gr1/data/unraveled/data/network_flows/Week6_Day2_06292021/net1013x_Flow_labeled.csv\n",
      "-------------------------------------------------------------------------\n",
      "Tệp: D:/code/gr1/data/unraveled/data/network_flows/Week6_Day2_06292021/netgw_Flow_labeled.csv\n",
      "-------------------------------------------------------------------------\n",
      "Tệp: D:/code/gr1/data/unraveled/data/network_flows/Week6_Day3_06302021/net1013x_Flow_labeled.csv\n",
      "-------------------------------------------------------------------------\n",
      "Tệp: D:/code/gr1/data/unraveled/data/network_flows/Week6_Day3_06302021/net1014x_Flow_labeled.csv\n",
      "-------------------------------------------------------------------------\n",
      "Tệp: D:/code/gr1/data/unraveled/data/network_flows/Week6_Day3_06302021/netgw_Flow_labeled.csv\n",
      "-------------------------------------------------------------------------\n",
      "Tệp: D:/code/gr1/data/unraveled/data/network_flows/Week6_Day4_07012021/net1013x_Flow_labeled.csv\n",
      "-------------------------------------------------------------------------\n",
      "Tệp: D:/code/gr1/data/unraveled/data/network_flows/Week6_Day4_07012021/net1015x_Flow_labeled.csv\n",
      "-------------------------------------------------------------------------\n",
      "Tệp: D:/code/gr1/data/unraveled/data/network_flows/Week6_Day4_07012021/netgw_Flow_labeled.csv\n",
      "-------------------------------------------------------------------------\n",
      "Tệp: D:/code/gr1/data/unraveled/data/network_flows/Week6_Day5_07022021_part2/net1013x_Flow_labeled.csv\n",
      "-------------------------------------------------------------------------\n",
      "Tệp: D:/code/gr1/data/unraveled/data/network_flows/Week6_Day5_07022021_part2/net1015x_Flow_labeled.csv\n",
      "-------------------------------------------------------------------------\n",
      "Tệp: D:/code/gr1/data/unraveled/data/network_flows/Week6_Day6-7_07032021-07042021/net1013x_Flow_labeled.csv\n",
      "-------------------------------------------------------------------------\n",
      "Tệp: D:/code/gr1/data/unraveled/data/network_flows/Week6_Day6-7_07032021-07042021/net1015x_Flow_labeled.csv\n",
      "-------------------------------------------------------------------------\n"
     ]
    }
   ],
   "source": [
    "# Xử lý từng tệp CSV để tìm các tệp APT\n",
    "for csv_file in all_csv_files:\n",
    "    get_apt_files(csv_file, threshold=99)"
   ],
   "metadata": {
    "collapsed": false,
    "ExecuteTime": {
     "end_time": "2024-11-11T16:03:59.142017Z",
     "start_time": "2024-11-11T16:02:54.367840Z"
    }
   },
   "id": "8cc33657112cdbba",
   "execution_count": 8
  },
  {
   "cell_type": "code",
   "outputs": [
    {
     "name": "stdout",
     "output_type": "stream",
     "text": [
      "23\n"
     ]
    }
   ],
   "source": [
    "print(len(apt_files))"
   ],
   "metadata": {
    "collapsed": false,
    "ExecuteTime": {
     "end_time": "2024-11-11T16:18:50.963497Z",
     "start_time": "2024-11-11T16:18:50.960439Z"
    }
   },
   "id": "6360a104fcfc463b",
   "execution_count": 9
  },
  {
   "cell_type": "code",
   "outputs": [
    {
     "name": "stdout",
     "output_type": "stream",
     "text": [
      "6829045\n"
     ]
    }
   ],
   "source": [
    "df_temp = []\n",
    "problematic_files = []\n",
    "\n",
    "for file_path in all_csv_files:\n",
    "    try:\n",
    "        # Sử dụng on_bad_lines='skip' để bỏ qua các dòng lỗi\n",
    "        df_temp.append(pd.read_csv(file_path, low_memory=False, on_bad_lines='skip'))\n",
    "    except pd.errors.ParserError as e:\n",
    "        print(f\"Error reading {file_path}: {e}\")\n",
    "        problematic_files.append(file_path)\n",
    "\n",
    "# Kiểm tra xem có tệp nào gặp lỗi không\n",
    "if problematic_files:\n",
    "    print(\"These files encountered parsing errors:\", problematic_files)\n",
    "\n",
    "# Gộp các DataFrame đã được đọc thành công\n",
    "df = pd.concat(df_temp, ignore_index=True)\n",
    "\n",
    "# In ra số lượng dòng trong DataFrame đã gộp\n",
    "print(len(df))"
   ],
   "metadata": {
    "collapsed": false,
    "ExecuteTime": {
     "end_time": "2024-11-11T16:20:32.578338Z",
     "start_time": "2024-11-11T16:19:06.682749Z"
    }
   },
   "id": "c1b491094e9c63ce",
   "execution_count": 10
  },
  {
   "cell_type": "code",
   "outputs": [
    {
     "name": "stdout",
     "output_type": "stream",
     "text": [
      "   Unnamed: 0  id  expiration_id     src_ip            src_mac   src_oui  \\\n",
      "0         0.0   0              0  10.1.1.11  fa:16:3e:2c:fe:de  fa:16:3e   \n",
      "1         1.0   1              0   10.1.1.4  fa:16:3e:03:f9:45  fa:16:3e   \n",
      "2         2.0   2              0   10.1.1.6  fa:16:3e:d9:a8:74  fa:16:3e   \n",
      "3         3.0   3              0   10.1.1.4  fa:16:3e:03:f9:45  fa:16:3e   \n",
      "4         4.0   4              0   10.1.1.6  fa:16:3e:d9:a8:74  fa:16:3e   \n",
      "\n",
      "   src_port          dst_ip            dst_mac   dst_oui  ...  \\\n",
      "0     47794   35.232.111.17  fa:16:3e:e5:11:55  fa:16:3e  ...   \n",
      "1       123  138.236.128.36  fa:16:3e:e5:11:55  fa:16:3e  ...   \n",
      "2       123  27.124.125.252  fa:16:3e:e5:11:55  fa:16:3e  ...   \n",
      "3       123   45.79.214.107  fa:16:3e:e5:11:55  fa:16:3e  ...   \n",
      "4       123   204.11.201.12  fa:16:3e:e5:11:55  fa:16:3e  ...   \n",
      "\n",
      "   application_is_guessed          requested_server_name  client_fingerprint  \\\n",
      "0                       0  connectivity-check.ubuntu.com                 NaN   \n",
      "1                       0                            NaN                 NaN   \n",
      "2                       0                            NaN                 NaN   \n",
      "3                       0                            NaN                 NaN   \n",
      "4                       0                            NaN                 NaN   \n",
      "\n",
      "   server_fingerprint  user_agent  content_type  Activity   Stage  \\\n",
      "0                 NaN         NaN           NaN    Normal  Benign   \n",
      "1                 NaN         NaN           NaN    Normal  Benign   \n",
      "2                 NaN         NaN           NaN    Normal  Benign   \n",
      "3                 NaN         NaN           NaN    Normal  Benign   \n",
      "4                 NaN         NaN           NaN    Normal  Benign   \n",
      "\n",
      "   DefenderResponse  Signature  \n",
      "0            Benign        NaN  \n",
      "1            Benign        NaN  \n",
      "2            Benign        NaN  \n",
      "3            Benign        NaN  \n",
      "4            Benign        NaN  \n",
      "\n",
      "[5 rows x 90 columns]\n"
     ]
    }
   ],
   "source": [
    "print(df.head(5))"
   ],
   "metadata": {
    "collapsed": false,
    "ExecuteTime": {
     "end_time": "2024-11-11T16:20:59.093537Z",
     "start_time": "2024-11-11T16:20:59.073734Z"
    }
   },
   "id": "c725e0552c178a34",
   "execution_count": 11
  },
  {
   "cell_type": "code",
   "outputs": [
    {
     "name": "stdout",
     "output_type": "stream",
     "text": [
      "Stage\n",
      "Benign                6731804\n",
      "Reconnaissance          34794\n",
      "Lateral Movement        27445\n",
      "Establish Foothold      27118\n",
      "Data Exfiltration        7522\n",
      "Cover up                  362\n",
      "Name: count, dtype: int64\n"
     ]
    }
   ],
   "source": [
    "df = df[df['Stage'] != 'Normal']\n",
    "print(df['Stage'].value_counts())"
   ],
   "metadata": {
    "collapsed": false,
    "ExecuteTime": {
     "end_time": "2024-11-11T16:21:27.332001Z",
     "start_time": "2024-11-11T16:21:03.299866Z"
    }
   },
   "id": "8efab76657e64fa7",
   "execution_count": 12
  },
  {
   "cell_type": "code",
   "outputs": [
    {
     "name": "stdout",
     "output_type": "stream",
     "text": [
      "Unique values in the 'stage' column: ['Benign' 'Lateral Movement' 'Reconnaissance' 'Data Exfiltration'\n",
      " 'Establish Foothold' 'Cover up']\n"
     ]
    }
   ],
   "source": [
    "# Display unique values in the 'stage' column\n",
    "unique_stages = df['Stage'].unique()\n",
    "print(\"Unique values in the 'stage' column:\", unique_stages)"
   ],
   "metadata": {
    "collapsed": false,
    "ExecuteTime": {
     "end_time": "2024-11-11T16:21:32.570262Z",
     "start_time": "2024-11-11T16:21:32.305675Z"
    }
   },
   "id": "399385446a02871c",
   "execution_count": 13
  },
  {
   "cell_type": "code",
   "outputs": [],
   "source": [
    "list_features = [\n",
    "    'bidirectional_duration_ms', 'src2dst_duration_ms',\n",
    "    'dst2src_duration_ms', 'src2dst_packets', 'dst2src_packets',\n",
    "    'src2dst_bytes', 'dst2src_bytes', 'src2dst_max_ps', 'src2dst_min_ps',\n",
    "    'src2dst_mean_ps', 'src2dst_stddev_ps', 'dst2src_max_ps', 'dst2src_min_ps',\n",
    "    'dst2src_mean_ps', 'dst2src_stddev_ps', 'bidirectional_mean_piat_ms',\n",
    "    'bidirectional_stddev_piat_ms', 'bidirectional_max_piat_ms', \n",
    "    'bidirectional_min_piat_ms','src2dst_mean_piat_ms', 'src2dst_stddev_piat_ms', \n",
    "    'src2dst_max_piat_ms', 'src2dst_min_piat_ms', 'dst2src_mean_piat_ms',\n",
    "    'dst2src_stddev_piat_ms', 'dst2src_max_piat_ms', 'dst2src_min_piat_ms', \n",
    "    'bidirectional_fin_packets', 'src2dst_fin_packets', 'dst2src_fin_packets', \n",
    "    'bidirectional_syn_packets', 'src2dst_syn_packets', 'dst2src_syn_packets',\n",
    "    'bidirectional_rst_packets', 'src2dst_rst_packets', 'dst2src_rst_packets',\n",
    "    'bidirectional_psh_packets', 'src2dst_psh_packets', 'dst2src_psh_packets', \n",
    "    'bidirectional_ack_packets', 'src2dst_ack_packets', 'dst2src_ack_packets', \n",
    "    'bidirectional_urg_packets', 'src2dst_urg_packets', 'dst2src_urg_packets',\n",
    "    'bidirectional_cwr_packets', 'src2dst_cwr_packets', 'dst2src_cwr_packets', \n",
    "    'bidirectional_ece_packets', 'src2dst_ece_packets', 'dst2src_ece_packets',\n",
    "    'DefenderResponse', 'Stage'\n",
    "]\n",
    "\n",
    "df = df[list_features]"
   ],
   "metadata": {
    "collapsed": false,
    "ExecuteTime": {
     "end_time": "2024-11-11T16:21:50.110728Z",
     "start_time": "2024-11-11T16:21:48.305490Z"
    }
   },
   "id": "e946f6eb29b1e1f1",
   "execution_count": 14
  },
  {
   "cell_type": "code",
   "outputs": [
    {
     "name": "stdout",
     "output_type": "stream",
     "text": [
      "Features contain unique value for every instance: ['dst2src_urg_packets', 'dst2src_cwr_packets', 'dst2src_ece_packets']\n"
     ]
    }
   ],
   "source": [
    "# df = pd.read_csv('C:/Users/Admin/Desktop/DATN/DATA/Unraveled_DATA2/W5_D6/net3.csv',on_bad_lines='skip')\n",
    "cols_unique_val = []\n",
    "\n",
    "# Dropping features contain unique value for every instance\n",
    "# for i in range (1,3):\n",
    "for col in df.columns:\n",
    "    if df[col].nunique() == 1:\n",
    "        cols_unique_val.append(col)\n",
    "        \n",
    "print(f'Features contain unique value for every instance: {cols_unique_val}')\n",
    "df.drop(cols_unique_val, axis=1, inplace=True)"
   ],
   "metadata": {
    "collapsed": false,
    "ExecuteTime": {
     "end_time": "2024-11-11T16:22:04.976120Z",
     "start_time": "2024-11-11T16:22:00.254107Z"
    }
   },
   "id": "c60fe280df5e27ff",
   "execution_count": 15
  },
  {
   "cell_type": "code",
   "outputs": [
    {
     "name": "stdout",
     "output_type": "stream",
     "text": [
      "Index(['bidirectional_duration_ms', 'src2dst_duration_ms',\n",
      "       'dst2src_duration_ms', 'src2dst_packets', 'dst2src_packets',\n",
      "       'src2dst_bytes', 'dst2src_bytes', 'src2dst_max_ps', 'src2dst_min_ps',\n",
      "       'src2dst_mean_ps', 'src2dst_stddev_ps', 'dst2src_max_ps',\n",
      "       'dst2src_min_ps', 'dst2src_mean_ps', 'dst2src_stddev_ps',\n",
      "       'bidirectional_mean_piat_ms', 'bidirectional_stddev_piat_ms',\n",
      "       'bidirectional_max_piat_ms', 'bidirectional_min_piat_ms',\n",
      "       'src2dst_mean_piat_ms', 'src2dst_stddev_piat_ms', 'src2dst_max_piat_ms',\n",
      "       'src2dst_min_piat_ms', 'dst2src_mean_piat_ms', 'dst2src_stddev_piat_ms',\n",
      "       'dst2src_max_piat_ms', 'dst2src_min_piat_ms',\n",
      "       'bidirectional_fin_packets', 'src2dst_fin_packets',\n",
      "       'dst2src_fin_packets', 'bidirectional_syn_packets',\n",
      "       'src2dst_syn_packets', 'dst2src_syn_packets',\n",
      "       'bidirectional_rst_packets', 'src2dst_rst_packets',\n",
      "       'dst2src_rst_packets', 'bidirectional_psh_packets',\n",
      "       'src2dst_psh_packets', 'dst2src_psh_packets',\n",
      "       'bidirectional_ack_packets', 'src2dst_ack_packets',\n",
      "       'dst2src_ack_packets', 'bidirectional_urg_packets',\n",
      "       'src2dst_urg_packets', 'bidirectional_cwr_packets',\n",
      "       'src2dst_cwr_packets', 'bidirectional_ece_packets',\n",
      "       'src2dst_ece_packets', 'DefenderResponse', 'Stage'],\n",
      "      dtype='object')\n",
      "Các giá trị duy nhất trong cột 'Stage': ['Benign' 'Lateral Movement' 'Reconnaissance' 'Data Exfiltration'\n",
      " 'Establish Foothold' 'Cover up']\n"
     ]
    }
   ],
   "source": [
    "import pandas as pd\n",
    "\n",
    "# Giả sử stage_mapping là từ điển mà bạn đã định nghĩa\n",
    "stage_mapping = {\n",
    "    'Benign': 1,        \n",
    "    'Reconnaissance': 2,     \n",
    "    'Establish Foothold': 3,\n",
    "    'Lateral Movement': 4,\n",
    "    'Data Exfiltration': 5,\n",
    "    'Cover up': 6\n",
    "}\n",
    "\n",
    "print(df.columns)\n",
    "\n",
    "# Giả sử df là DataFrame đã đọc từ một tập tin CSV và có cột 'Stage'\n",
    "# In ra các giá trị duy nhất trong cột 'Stage'\n",
    "unique_stages = df['Stage'].unique()\n",
    "print(f\"Các giá trị duy nhất trong cột 'Stage': {unique_stages}\")\n"
   ],
   "metadata": {
    "collapsed": false,
    "ExecuteTime": {
     "end_time": "2024-11-11T16:22:12.131747Z",
     "start_time": "2024-11-11T16:22:11.880227Z"
    }
   },
   "id": "165778943b7307a3",
   "execution_count": 16
  },
  {
   "cell_type": "code",
   "outputs": [],
   "source": [
    "stage_mapping = {\n",
    "    'Benign': 0,        \n",
    "    'Detected': 1,     \n",
    "}\n",
    "\n",
    "df['DefenderResponse'] = df['DefenderResponse'].map(stage_mapping)"
   ],
   "metadata": {
    "collapsed": false,
    "ExecuteTime": {
     "end_time": "2024-11-11T16:22:30.631627Z",
     "start_time": "2024-11-11T16:22:30.340959Z"
    }
   },
   "id": "733db36bf21d6505",
   "execution_count": 17
  },
  {
   "cell_type": "markdown",
   "source": [
    "Data cleaning"
   ],
   "metadata": {
    "collapsed": false
   },
   "id": "12819b12d15830cc"
  },
  {
   "cell_type": "code",
   "outputs": [
    {
     "data": {
      "text/plain": "DefenderResponse\n0    2620063\n1      11989\nName: count, dtype: int64"
     },
     "execution_count": 18,
     "metadata": {},
     "output_type": "execute_result"
    }
   ],
   "source": [
    "import numpy as np\n",
    "\n",
    "\n",
    "# df.value_counts('Stage')\n",
    "df.replace([-np.inf, np.inf], np.nan, inplace=True)\n",
    "df.fillna(0, inplace=True)\n",
    "\n",
    "# Dropping duplicate samples\n",
    "df.drop_duplicates(inplace=True)\n",
    "df.value_counts('DefenderResponse')"
   ],
   "metadata": {
    "collapsed": false,
    "ExecuteTime": {
     "end_time": "2024-11-11T16:22:54.043480Z",
     "start_time": "2024-11-11T16:22:38.725264Z"
    }
   },
   "id": "55332266f88eaac5",
   "execution_count": 18
  },
  {
   "cell_type": "code",
   "outputs": [],
   "source": [
    "df.to_csv('D:/code/gr1/data/dataset/unraveled_defender_response.csv')"
   ],
   "metadata": {
    "collapsed": false,
    "ExecuteTime": {
     "end_time": "2024-11-11T16:24:33.614875Z",
     "start_time": "2024-11-11T16:23:54.657364Z"
    }
   },
   "id": "3a7b0eaf06dbcbcb",
   "execution_count": 19
  },
  {
   "cell_type": "markdown",
   "source": [
    "Using data"
   ],
   "metadata": {
    "collapsed": false
   },
   "id": "ad2c7aed2c2a28fb"
  },
  {
   "cell_type": "code",
   "outputs": [],
   "source": [
    "import pandas as pd\n",
    "\n",
    "df = pd.read_csv('D:/code/gr1/data/dataset/unraveled_defender_response.csv')"
   ],
   "metadata": {
    "collapsed": false,
    "ExecuteTime": {
     "end_time": "2024-11-13T01:50:08.328485Z",
     "start_time": "2024-11-13T01:49:57.614498Z"
    }
   },
   "id": "74e8a35281dba69f",
   "execution_count": 5
  },
  {
   "cell_type": "code",
   "outputs": [
    {
     "name": "stdout",
     "output_type": "stream",
     "text": [
      "Index(['Unnamed: 0', 'bidirectional_duration_ms', 'src2dst_duration_ms',\n",
      "       'dst2src_duration_ms', 'src2dst_packets', 'dst2src_packets',\n",
      "       'src2dst_bytes', 'dst2src_bytes', 'src2dst_max_ps', 'src2dst_min_ps',\n",
      "       'src2dst_mean_ps', 'src2dst_stddev_ps', 'dst2src_max_ps',\n",
      "       'dst2src_min_ps', 'dst2src_mean_ps', 'dst2src_stddev_ps',\n",
      "       'bidirectional_mean_piat_ms', 'bidirectional_stddev_piat_ms',\n",
      "       'bidirectional_max_piat_ms', 'bidirectional_min_piat_ms',\n",
      "       'src2dst_mean_piat_ms', 'src2dst_stddev_piat_ms', 'src2dst_max_piat_ms',\n",
      "       'src2dst_min_piat_ms', 'dst2src_mean_piat_ms', 'dst2src_stddev_piat_ms',\n",
      "       'dst2src_max_piat_ms', 'dst2src_min_piat_ms',\n",
      "       'bidirectional_fin_packets', 'src2dst_fin_packets',\n",
      "       'dst2src_fin_packets', 'bidirectional_syn_packets',\n",
      "       'src2dst_syn_packets', 'dst2src_syn_packets',\n",
      "       'bidirectional_rst_packets', 'src2dst_rst_packets',\n",
      "       'dst2src_rst_packets', 'bidirectional_psh_packets',\n",
      "       'src2dst_psh_packets', 'dst2src_psh_packets',\n",
      "       'bidirectional_ack_packets', 'src2dst_ack_packets',\n",
      "       'dst2src_ack_packets', 'bidirectional_urg_packets',\n",
      "       'src2dst_urg_packets', 'bidirectional_cwr_packets',\n",
      "       'src2dst_cwr_packets', 'bidirectional_ece_packets',\n",
      "       'src2dst_ece_packets', 'DefenderResponse', 'Stage'],\n",
      "      dtype='object')\n",
      "Các giá trị duy nhất trong cột 'Stage': ['Benign' 'Lateral Movement' 'Reconnaissance' 'Data Exfiltration'\n",
      " 'Establish Foothold' 'Cover up']\n"
     ]
    }
   ],
   "source": [
    "import pandas as pd\n",
    "\n",
    "# Giả sử stage_mapping là từ điển mà bạn đã định nghĩa\n",
    "stage_mapping = {\n",
    "    'Benign': 0,        \n",
    "    'Reconnaissance': 1,     \n",
    "    'Establish Foothold': 2,\n",
    "    'Lateral Movement': 3,\n",
    "    'Data Exfiltration': 4,\n",
    "    'Cover up': 5\n",
    "}\n",
    "\n",
    "print(df.columns)\n",
    "\n",
    "# Giả sử df là DataFrame đã đọc từ một tập tin CSV và có cột 'Stage'\n",
    "# In ra các giá trị duy nhất trong cột 'Stage'\n",
    "unique_stages = df['Stage'].unique()\n",
    "print(f\"Các giá trị duy nhất trong cột 'Stage': {unique_stages}\")\n"
   ],
   "metadata": {
    "collapsed": false,
    "ExecuteTime": {
     "end_time": "2024-11-13T01:50:08.458494Z",
     "start_time": "2024-11-13T01:50:08.329642Z"
    }
   },
   "id": "d91908e7897ad113",
   "execution_count": 6
  },
  {
   "cell_type": "code",
   "outputs": [
    {
     "name": "stdout",
     "output_type": "stream",
     "text": [
      "Các giá trị duy nhất trong cột 'Stage': [0 3 1 4 2 5]\n"
     ]
    }
   ],
   "source": [
    "df['Stage'] = df['Stage'].map(stage_mapping)\n",
    "unique_stages = df['Stage'].unique()\n",
    "print(f\"Các giá trị duy nhất trong cột 'Stage': {unique_stages}\")"
   ],
   "metadata": {
    "collapsed": false,
    "ExecuteTime": {
     "end_time": "2024-11-13T01:50:08.625930Z",
     "start_time": "2024-11-13T01:50:08.459959Z"
    }
   },
   "id": "1560599f933260b0",
   "execution_count": 7
  },
  {
   "cell_type": "code",
   "outputs": [
    {
     "data": {
      "text/plain": "Index(['Unnamed: 0', 'bidirectional_duration_ms', 'src2dst_duration_ms',\n       'dst2src_duration_ms', 'src2dst_packets', 'dst2src_packets',\n       'src2dst_bytes', 'dst2src_bytes', 'src2dst_max_ps', 'src2dst_min_ps',\n       'src2dst_mean_ps', 'src2dst_stddev_ps', 'dst2src_max_ps',\n       'dst2src_min_ps', 'dst2src_mean_ps', 'dst2src_stddev_ps',\n       'bidirectional_mean_piat_ms', 'bidirectional_stddev_piat_ms',\n       'bidirectional_max_piat_ms', 'bidirectional_min_piat_ms',\n       'src2dst_mean_piat_ms', 'src2dst_stddev_piat_ms', 'src2dst_max_piat_ms',\n       'src2dst_min_piat_ms', 'dst2src_mean_piat_ms', 'dst2src_stddev_piat_ms',\n       'dst2src_max_piat_ms', 'dst2src_min_piat_ms',\n       'bidirectional_fin_packets', 'src2dst_fin_packets',\n       'dst2src_fin_packets', 'bidirectional_syn_packets',\n       'src2dst_syn_packets', 'dst2src_syn_packets',\n       'bidirectional_rst_packets', 'src2dst_rst_packets',\n       'dst2src_rst_packets', 'bidirectional_psh_packets',\n       'src2dst_psh_packets', 'dst2src_psh_packets',\n       'bidirectional_ack_packets', 'src2dst_ack_packets',\n       'dst2src_ack_packets', 'bidirectional_urg_packets',\n       'src2dst_urg_packets', 'bidirectional_cwr_packets',\n       'src2dst_cwr_packets', 'bidirectional_ece_packets',\n       'src2dst_ece_packets', 'DefenderResponse', 'Stage'],\n      dtype='object')"
     },
     "execution_count": 8,
     "metadata": {},
     "output_type": "execute_result"
    }
   ],
   "source": [
    "df.columns"
   ],
   "metadata": {
    "collapsed": false,
    "ExecuteTime": {
     "end_time": "2024-11-13T01:50:10.790315Z",
     "start_time": "2024-11-13T01:50:10.782951Z"
    }
   },
   "id": "b8f0854024a2b08b",
   "execution_count": 8
  },
  {
   "cell_type": "code",
   "outputs": [
    {
     "data": {
      "text/plain": "Stage\n0    2559802\n3      27272\n2      27095\n1      11989\n4       5535\n5        359\nName: count, dtype: int64"
     },
     "execution_count": 9,
     "metadata": {},
     "output_type": "execute_result"
    }
   ],
   "source": [
    "df.drop('Unnamed: 0', axis=1, inplace=True)\n",
    "df.value_counts('Stage')"
   ],
   "metadata": {
    "collapsed": false,
    "ExecuteTime": {
     "end_time": "2024-11-13T01:50:19.314070Z",
     "start_time": "2024-11-13T01:50:19.038759Z"
    }
   },
   "id": "f3fb4f682c6f1cca",
   "execution_count": 9
  },
  {
   "cell_type": "code",
   "outputs": [
    {
     "name": "stdout",
     "output_type": "stream",
     "text": [
      "Stage\n",
      "0    50000\n",
      "3    27272\n",
      "2    27095\n",
      "1    11989\n",
      "4     5535\n",
      "5      359\n",
      "Name: count, dtype: int64\n"
     ]
    }
   ],
   "source": [
    "import pandas as pd\n",
    "\n",
    "# Giả sử dữ liệu của bạn là df\n",
    "# Lấy tất cả các mẫu không có nhãn là 0\n",
    "df_other = df[df['Stage'] != 0]\n",
    "\n",
    "# Lấy ngẫu nhiên 50,000 mẫu có nhãn là 0\n",
    "df_stage_0 = df[df['Stage'] == 0].sample(n=50000, random_state=42)\n",
    "\n",
    "# Kết hợp lại hai DataFrame\n",
    "df_reduced = pd.concat([df_other, df_stage_0])\n",
    "\n",
    "# Kiểm tra lại số lượng mẫu sau khi giảm\n",
    "print(df_reduced['Stage'].value_counts())\n"
   ],
   "metadata": {
    "collapsed": false,
    "ExecuteTime": {
     "end_time": "2024-11-13T01:52:11.323297Z",
     "start_time": "2024-11-13T01:52:10.789116Z"
    }
   },
   "id": "ecba58775e631a65",
   "execution_count": 10
  },
  {
   "cell_type": "markdown",
   "source": [
    "<h2> Training ATTACK</h2>"
   ],
   "metadata": {
    "collapsed": false
   },
   "id": "80a204ae4fbbe4bc"
  },
  {
   "cell_type": "code",
   "outputs": [],
   "source": [
    "from sklearn.model_selection import train_test_split\n",
    "from sklearn.metrics import accuracy_score, precision_score, recall_score, f1_score, confusion_matrix, classification_report\n"
   ],
   "metadata": {
    "collapsed": false,
    "ExecuteTime": {
     "end_time": "2024-11-13T01:52:18.667093Z",
     "start_time": "2024-11-13T01:52:18.664213Z"
    }
   },
   "id": "78363a6e4af066f3",
   "execution_count": 11
  },
  {
   "cell_type": "code",
   "outputs": [],
   "source": [
    "X_train = df.drop('Stage', axis=1)\n",
    "Y_train = df['Stage']\n",
    "\n",
    "# x_train = df.iloc[:, :-1].values\n",
    "# y_train = df.iloc[:, -1].values\n",
    "\n",
    "\n",
    "x_train, x_test, y_train, y_test = train_test_split(X_train, Y_train, stratify=Y_train, test_size=0.1, random_state=42)"
   ],
   "metadata": {
    "collapsed": false,
    "ExecuteTime": {
     "end_time": "2024-11-13T01:52:23.552600Z",
     "start_time": "2024-11-13T01:52:20.688255Z"
    }
   },
   "id": "e8d03d68264aa4d8",
   "execution_count": 12
  },
  {
   "cell_type": "code",
   "outputs": [],
   "source": [
    "random_forest_apt2021 = RandomForestClassifier(\n",
    "    n_estimators=100,\n",
    "    n_jobs=12,\n",
    ")"
   ],
   "metadata": {
    "collapsed": false,
    "ExecuteTime": {
     "end_time": "2024-11-13T01:52:26.428363Z",
     "start_time": "2024-11-13T01:52:26.425390Z"
    }
   },
   "id": "ca25b0a2f46d4863",
   "execution_count": 13
  },
  {
   "cell_type": "code",
   "outputs": [
    {
     "data": {
      "text/plain": "RandomForestClassifier(n_jobs=12)",
      "text/html": "<style>#sk-container-id-1 {\n  /* Definition of color scheme common for light and dark mode */\n  --sklearn-color-text: black;\n  --sklearn-color-line: gray;\n  /* Definition of color scheme for unfitted estimators */\n  --sklearn-color-unfitted-level-0: #fff5e6;\n  --sklearn-color-unfitted-level-1: #f6e4d2;\n  --sklearn-color-unfitted-level-2: #ffe0b3;\n  --sklearn-color-unfitted-level-3: chocolate;\n  /* Definition of color scheme for fitted estimators */\n  --sklearn-color-fitted-level-0: #f0f8ff;\n  --sklearn-color-fitted-level-1: #d4ebff;\n  --sklearn-color-fitted-level-2: #b3dbfd;\n  --sklearn-color-fitted-level-3: cornflowerblue;\n\n  /* Specific color for light theme */\n  --sklearn-color-text-on-default-background: var(--sg-text-color, var(--theme-code-foreground, var(--jp-content-font-color1, black)));\n  --sklearn-color-background: var(--sg-background-color, var(--theme-background, var(--jp-layout-color0, white)));\n  --sklearn-color-border-box: var(--sg-text-color, var(--theme-code-foreground, var(--jp-content-font-color1, black)));\n  --sklearn-color-icon: #696969;\n\n  @media (prefers-color-scheme: dark) {\n    /* Redefinition of color scheme for dark theme */\n    --sklearn-color-text-on-default-background: var(--sg-text-color, var(--theme-code-foreground, var(--jp-content-font-color1, white)));\n    --sklearn-color-background: var(--sg-background-color, var(--theme-background, var(--jp-layout-color0, #111)));\n    --sklearn-color-border-box: var(--sg-text-color, var(--theme-code-foreground, var(--jp-content-font-color1, white)));\n    --sklearn-color-icon: #878787;\n  }\n}\n\n#sk-container-id-1 {\n  color: var(--sklearn-color-text);\n}\n\n#sk-container-id-1 pre {\n  padding: 0;\n}\n\n#sk-container-id-1 input.sk-hidden--visually {\n  border: 0;\n  clip: rect(1px 1px 1px 1px);\n  clip: rect(1px, 1px, 1px, 1px);\n  height: 1px;\n  margin: -1px;\n  overflow: hidden;\n  padding: 0;\n  position: absolute;\n  width: 1px;\n}\n\n#sk-container-id-1 div.sk-dashed-wrapped {\n  border: 1px dashed var(--sklearn-color-line);\n  margin: 0 0.4em 0.5em 0.4em;\n  box-sizing: border-box;\n  padding-bottom: 0.4em;\n  background-color: var(--sklearn-color-background);\n}\n\n#sk-container-id-1 div.sk-container {\n  /* jupyter's `normalize.less` sets `[hidden] { display: none; }`\n     but bootstrap.min.css set `[hidden] { display: none !important; }`\n     so we also need the `!important` here to be able to override the\n     default hidden behavior on the sphinx rendered scikit-learn.org.\n     See: https://github.com/scikit-learn/scikit-learn/issues/21755 */\n  display: inline-block !important;\n  position: relative;\n}\n\n#sk-container-id-1 div.sk-text-repr-fallback {\n  display: none;\n}\n\ndiv.sk-parallel-item,\ndiv.sk-serial,\ndiv.sk-item {\n  /* draw centered vertical line to link estimators */\n  background-image: linear-gradient(var(--sklearn-color-text-on-default-background), var(--sklearn-color-text-on-default-background));\n  background-size: 2px 100%;\n  background-repeat: no-repeat;\n  background-position: center center;\n}\n\n/* Parallel-specific style estimator block */\n\n#sk-container-id-1 div.sk-parallel-item::after {\n  content: \"\";\n  width: 100%;\n  border-bottom: 2px solid var(--sklearn-color-text-on-default-background);\n  flex-grow: 1;\n}\n\n#sk-container-id-1 div.sk-parallel {\n  display: flex;\n  align-items: stretch;\n  justify-content: center;\n  background-color: var(--sklearn-color-background);\n  position: relative;\n}\n\n#sk-container-id-1 div.sk-parallel-item {\n  display: flex;\n  flex-direction: column;\n}\n\n#sk-container-id-1 div.sk-parallel-item:first-child::after {\n  align-self: flex-end;\n  width: 50%;\n}\n\n#sk-container-id-1 div.sk-parallel-item:last-child::after {\n  align-self: flex-start;\n  width: 50%;\n}\n\n#sk-container-id-1 div.sk-parallel-item:only-child::after {\n  width: 0;\n}\n\n/* Serial-specific style estimator block */\n\n#sk-container-id-1 div.sk-serial {\n  display: flex;\n  flex-direction: column;\n  align-items: center;\n  background-color: var(--sklearn-color-background);\n  padding-right: 1em;\n  padding-left: 1em;\n}\n\n\n/* Toggleable style: style used for estimator/Pipeline/ColumnTransformer box that is\nclickable and can be expanded/collapsed.\n- Pipeline and ColumnTransformer use this feature and define the default style\n- Estimators will overwrite some part of the style using the `sk-estimator` class\n*/\n\n/* Pipeline and ColumnTransformer style (default) */\n\n#sk-container-id-1 div.sk-toggleable {\n  /* Default theme specific background. It is overwritten whether we have a\n  specific estimator or a Pipeline/ColumnTransformer */\n  background-color: var(--sklearn-color-background);\n}\n\n/* Toggleable label */\n#sk-container-id-1 label.sk-toggleable__label {\n  cursor: pointer;\n  display: block;\n  width: 100%;\n  margin-bottom: 0;\n  padding: 0.5em;\n  box-sizing: border-box;\n  text-align: center;\n}\n\n#sk-container-id-1 label.sk-toggleable__label-arrow:before {\n  /* Arrow on the left of the label */\n  content: \"▸\";\n  float: left;\n  margin-right: 0.25em;\n  color: var(--sklearn-color-icon);\n}\n\n#sk-container-id-1 label.sk-toggleable__label-arrow:hover:before {\n  color: var(--sklearn-color-text);\n}\n\n/* Toggleable content - dropdown */\n\n#sk-container-id-1 div.sk-toggleable__content {\n  max-height: 0;\n  max-width: 0;\n  overflow: hidden;\n  text-align: left;\n  /* unfitted */\n  background-color: var(--sklearn-color-unfitted-level-0);\n}\n\n#sk-container-id-1 div.sk-toggleable__content.fitted {\n  /* fitted */\n  background-color: var(--sklearn-color-fitted-level-0);\n}\n\n#sk-container-id-1 div.sk-toggleable__content pre {\n  margin: 0.2em;\n  border-radius: 0.25em;\n  color: var(--sklearn-color-text);\n  /* unfitted */\n  background-color: var(--sklearn-color-unfitted-level-0);\n}\n\n#sk-container-id-1 div.sk-toggleable__content.fitted pre {\n  /* unfitted */\n  background-color: var(--sklearn-color-fitted-level-0);\n}\n\n#sk-container-id-1 input.sk-toggleable__control:checked~div.sk-toggleable__content {\n  /* Expand drop-down */\n  max-height: 200px;\n  max-width: 100%;\n  overflow: auto;\n}\n\n#sk-container-id-1 input.sk-toggleable__control:checked~label.sk-toggleable__label-arrow:before {\n  content: \"▾\";\n}\n\n/* Pipeline/ColumnTransformer-specific style */\n\n#sk-container-id-1 div.sk-label input.sk-toggleable__control:checked~label.sk-toggleable__label {\n  color: var(--sklearn-color-text);\n  background-color: var(--sklearn-color-unfitted-level-2);\n}\n\n#sk-container-id-1 div.sk-label.fitted input.sk-toggleable__control:checked~label.sk-toggleable__label {\n  background-color: var(--sklearn-color-fitted-level-2);\n}\n\n/* Estimator-specific style */\n\n/* Colorize estimator box */\n#sk-container-id-1 div.sk-estimator input.sk-toggleable__control:checked~label.sk-toggleable__label {\n  /* unfitted */\n  background-color: var(--sklearn-color-unfitted-level-2);\n}\n\n#sk-container-id-1 div.sk-estimator.fitted input.sk-toggleable__control:checked~label.sk-toggleable__label {\n  /* fitted */\n  background-color: var(--sklearn-color-fitted-level-2);\n}\n\n#sk-container-id-1 div.sk-label label.sk-toggleable__label,\n#sk-container-id-1 div.sk-label label {\n  /* The background is the default theme color */\n  color: var(--sklearn-color-text-on-default-background);\n}\n\n/* On hover, darken the color of the background */\n#sk-container-id-1 div.sk-label:hover label.sk-toggleable__label {\n  color: var(--sklearn-color-text);\n  background-color: var(--sklearn-color-unfitted-level-2);\n}\n\n/* Label box, darken color on hover, fitted */\n#sk-container-id-1 div.sk-label.fitted:hover label.sk-toggleable__label.fitted {\n  color: var(--sklearn-color-text);\n  background-color: var(--sklearn-color-fitted-level-2);\n}\n\n/* Estimator label */\n\n#sk-container-id-1 div.sk-label label {\n  font-family: monospace;\n  font-weight: bold;\n  display: inline-block;\n  line-height: 1.2em;\n}\n\n#sk-container-id-1 div.sk-label-container {\n  text-align: center;\n}\n\n/* Estimator-specific */\n#sk-container-id-1 div.sk-estimator {\n  font-family: monospace;\n  border: 1px dotted var(--sklearn-color-border-box);\n  border-radius: 0.25em;\n  box-sizing: border-box;\n  margin-bottom: 0.5em;\n  /* unfitted */\n  background-color: var(--sklearn-color-unfitted-level-0);\n}\n\n#sk-container-id-1 div.sk-estimator.fitted {\n  /* fitted */\n  background-color: var(--sklearn-color-fitted-level-0);\n}\n\n/* on hover */\n#sk-container-id-1 div.sk-estimator:hover {\n  /* unfitted */\n  background-color: var(--sklearn-color-unfitted-level-2);\n}\n\n#sk-container-id-1 div.sk-estimator.fitted:hover {\n  /* fitted */\n  background-color: var(--sklearn-color-fitted-level-2);\n}\n\n/* Specification for estimator info (e.g. \"i\" and \"?\") */\n\n/* Common style for \"i\" and \"?\" */\n\n.sk-estimator-doc-link,\na:link.sk-estimator-doc-link,\na:visited.sk-estimator-doc-link {\n  float: right;\n  font-size: smaller;\n  line-height: 1em;\n  font-family: monospace;\n  background-color: var(--sklearn-color-background);\n  border-radius: 1em;\n  height: 1em;\n  width: 1em;\n  text-decoration: none !important;\n  margin-left: 1ex;\n  /* unfitted */\n  border: var(--sklearn-color-unfitted-level-1) 1pt solid;\n  color: var(--sklearn-color-unfitted-level-1);\n}\n\n.sk-estimator-doc-link.fitted,\na:link.sk-estimator-doc-link.fitted,\na:visited.sk-estimator-doc-link.fitted {\n  /* fitted */\n  border: var(--sklearn-color-fitted-level-1) 1pt solid;\n  color: var(--sklearn-color-fitted-level-1);\n}\n\n/* On hover */\ndiv.sk-estimator:hover .sk-estimator-doc-link:hover,\n.sk-estimator-doc-link:hover,\ndiv.sk-label-container:hover .sk-estimator-doc-link:hover,\n.sk-estimator-doc-link:hover {\n  /* unfitted */\n  background-color: var(--sklearn-color-unfitted-level-3);\n  color: var(--sklearn-color-background);\n  text-decoration: none;\n}\n\ndiv.sk-estimator.fitted:hover .sk-estimator-doc-link.fitted:hover,\n.sk-estimator-doc-link.fitted:hover,\ndiv.sk-label-container:hover .sk-estimator-doc-link.fitted:hover,\n.sk-estimator-doc-link.fitted:hover {\n  /* fitted */\n  background-color: var(--sklearn-color-fitted-level-3);\n  color: var(--sklearn-color-background);\n  text-decoration: none;\n}\n\n/* Span, style for the box shown on hovering the info icon */\n.sk-estimator-doc-link span {\n  display: none;\n  z-index: 9999;\n  position: relative;\n  font-weight: normal;\n  right: .2ex;\n  padding: .5ex;\n  margin: .5ex;\n  width: min-content;\n  min-width: 20ex;\n  max-width: 50ex;\n  color: var(--sklearn-color-text);\n  box-shadow: 2pt 2pt 4pt #999;\n  /* unfitted */\n  background: var(--sklearn-color-unfitted-level-0);\n  border: .5pt solid var(--sklearn-color-unfitted-level-3);\n}\n\n.sk-estimator-doc-link.fitted span {\n  /* fitted */\n  background: var(--sklearn-color-fitted-level-0);\n  border: var(--sklearn-color-fitted-level-3);\n}\n\n.sk-estimator-doc-link:hover span {\n  display: block;\n}\n\n/* \"?\"-specific style due to the `<a>` HTML tag */\n\n#sk-container-id-1 a.estimator_doc_link {\n  float: right;\n  font-size: 1rem;\n  line-height: 1em;\n  font-family: monospace;\n  background-color: var(--sklearn-color-background);\n  border-radius: 1rem;\n  height: 1rem;\n  width: 1rem;\n  text-decoration: none;\n  /* unfitted */\n  color: var(--sklearn-color-unfitted-level-1);\n  border: var(--sklearn-color-unfitted-level-1) 1pt solid;\n}\n\n#sk-container-id-1 a.estimator_doc_link.fitted {\n  /* fitted */\n  border: var(--sklearn-color-fitted-level-1) 1pt solid;\n  color: var(--sklearn-color-fitted-level-1);\n}\n\n/* On hover */\n#sk-container-id-1 a.estimator_doc_link:hover {\n  /* unfitted */\n  background-color: var(--sklearn-color-unfitted-level-3);\n  color: var(--sklearn-color-background);\n  text-decoration: none;\n}\n\n#sk-container-id-1 a.estimator_doc_link.fitted:hover {\n  /* fitted */\n  background-color: var(--sklearn-color-fitted-level-3);\n}\n</style><div id=\"sk-container-id-1\" class=\"sk-top-container\"><div class=\"sk-text-repr-fallback\"><pre>RandomForestClassifier(n_jobs=12)</pre><b>In a Jupyter environment, please rerun this cell to show the HTML representation or trust the notebook. <br />On GitHub, the HTML representation is unable to render, please try loading this page with nbviewer.org.</b></div><div class=\"sk-container\" hidden><div class=\"sk-item\"><div class=\"sk-estimator fitted sk-toggleable\"><input class=\"sk-toggleable__control sk-hidden--visually\" id=\"sk-estimator-id-1\" type=\"checkbox\" checked><label for=\"sk-estimator-id-1\" class=\"sk-toggleable__label fitted sk-toggleable__label-arrow fitted\">&nbsp;&nbsp;RandomForestClassifier<a class=\"sk-estimator-doc-link fitted\" rel=\"noreferrer\" target=\"_blank\" href=\"https://scikit-learn.org/1.5/modules/generated/sklearn.ensemble.RandomForestClassifier.html\">?<span>Documentation for RandomForestClassifier</span></a><span class=\"sk-estimator-doc-link fitted\">i<span>Fitted</span></span></label><div class=\"sk-toggleable__content fitted\"><pre>RandomForestClassifier(n_jobs=12)</pre></div> </div></div></div></div>"
     },
     "execution_count": 14,
     "metadata": {},
     "output_type": "execute_result"
    }
   ],
   "source": [
    "random_forest_apt2021.fit(x_train, y_train)"
   ],
   "metadata": {
    "collapsed": false,
    "ExecuteTime": {
     "end_time": "2024-11-13T01:56:25.749976Z",
     "start_time": "2024-11-13T01:52:28.930438Z"
    }
   },
   "id": "484746601a44ff92",
   "execution_count": 14
  },
  {
   "cell_type": "code",
   "outputs": [
    {
     "name": "stdout",
     "output_type": "stream",
     "text": [
      "[0 3 2 1]\n"
     ]
    },
    {
     "name": "stderr",
     "output_type": "stream",
     "text": [
      "D:\\code\\python\\code\\ScoreFactor\\.venv\\Lib\\site-packages\\sklearn\\base.py:493: UserWarning: X does not have valid feature names, but RandomForestClassifier was fitted with feature names\n",
      "  warnings.warn(\n"
     ]
    }
   ],
   "source": [
    "list_ft = ['bidirectional_duration_ms', 'src2dst_duration_ms',\n",
    "       'dst2src_duration_ms', 'src2dst_packets', 'dst2src_packets',\n",
    "       'src2dst_bytes', 'dst2src_bytes', 'src2dst_max_ps', 'src2dst_min_ps',\n",
    "       'src2dst_mean_ps', 'src2dst_stddev_ps', 'dst2src_max_ps',\n",
    "       'dst2src_min_ps', 'dst2src_mean_ps', 'dst2src_stddev_ps',\n",
    "       'bidirectional_mean_piat_ms', 'bidirectional_stddev_piat_ms',\n",
    "       'bidirectional_max_piat_ms', 'bidirectional_min_piat_ms',\n",
    "       'src2dst_mean_piat_ms', 'src2dst_stddev_piat_ms', 'src2dst_max_piat_ms',\n",
    "       'src2dst_min_piat_ms', 'dst2src_mean_piat_ms', 'dst2src_stddev_piat_ms',\n",
    "       'dst2src_max_piat_ms', 'dst2src_min_piat_ms',\n",
    "       'bidirectional_fin_packets', 'src2dst_fin_packets',\n",
    "       'dst2src_fin_packets', 'bidirectional_syn_packets',\n",
    "       'src2dst_syn_packets', 'dst2src_syn_packets',\n",
    "       'bidirectional_rst_packets', 'src2dst_rst_packets',\n",
    "       'dst2src_rst_packets', 'bidirectional_psh_packets',\n",
    "       'src2dst_psh_packets', 'dst2src_psh_packets',\n",
    "       'bidirectional_ack_packets', 'src2dst_ack_packets',\n",
    "       'dst2src_ack_packets', 'bidirectional_urg_packets',\n",
    "       'src2dst_urg_packets']\n",
    "\n",
    "df_test = pd.read_csv(\"D:/code/gr1/data/unraveled-test.csv\")\n",
    "df_test = df_test[list_ft]\n",
    "df_test\n",
    "df_test = df_test.values\n",
    "y_test_pred = random_forest_apt2021.predict(df_test)\n",
    "print(y_test_pred)"
   ],
   "metadata": {
    "collapsed": false,
    "ExecuteTime": {
     "end_time": "2024-10-20T16:05:02.932827Z",
     "start_time": "2024-10-20T16:05:02.894237Z"
    }
   },
   "id": "3c76af94d2d49ef8",
   "execution_count": 32
  },
  {
   "cell_type": "code",
   "outputs": [
    {
     "name": "stdout",
     "output_type": "stream",
     "text": [
      "0.9795635357856584\n"
     ]
    }
   ],
   "source": [
    "from sklearn.metrics import accuracy_score, classification_report\n",
    "y_pred = random_forest_apt2021.predict(x_test)\n",
    "\n",
    "# Calculate accuracy\n",
    "accuracy = accuracy_score(y_test, y_pred)\n",
    "print(accuracy)\n"
   ],
   "metadata": {
    "collapsed": false,
    "ExecuteTime": {
     "end_time": "2024-11-13T01:56:26.520838Z",
     "start_time": "2024-11-13T01:56:25.749976Z"
    }
   },
   "id": "898c5a7d1df538bd",
   "execution_count": 15
  },
  {
   "cell_type": "code",
   "outputs": [
    {
     "data": {
      "text/plain": "Stage\n0    2559802\n3      27272\n2      27095\n1      11989\n4       5535\n5        359\nName: count, dtype: int64"
     },
     "execution_count": 49,
     "metadata": {},
     "output_type": "execute_result"
    }
   ],
   "source": [
    "df.value_counts('Stage')\n"
   ],
   "metadata": {
    "collapsed": false,
    "ExecuteTime": {
     "end_time": "2024-11-12T01:11:14.445644Z",
     "start_time": "2024-11-12T01:11:14.399605Z"
    }
   },
   "id": "46ea95252a97378b",
   "execution_count": 49
  },
  {
   "cell_type": "code",
   "outputs": [
    {
     "name": "stdout",
     "output_type": "stream",
     "text": [
      "0.9797020452979927\n",
      "0.4158376202984799\n",
      "0.9795635357856584\n",
      "---------------------\n",
      "0.9798425527920723\n",
      "0.41570621336218005\n",
      "0.9795635357856584\n",
      "---------------------\n",
      "0.9795635357856584\n",
      "0.41611971538399617\n",
      "0.9795635357856584\n",
      "[[255790      0    131     25      9     26]\n",
      " [     0   1199      0      0      0      0]\n",
      " [    50      0    563   2095      1      1]\n",
      " [     7      0   2125    162    433      0]\n",
      " [     7      0      6    427    112      1]\n",
      " [    31      0      0      2      2      1]]\n"
     ]
    }
   ],
   "source": [
    "f1 = f1_score(y_test, y_pred, average='weighted')\n",
    "f2 = f1_score(y_test, y_pred, average='macro')\n",
    "f3 = f1_score(y_test, y_pred, average='micro')\n",
    "# accuracy3 = f1_score(y_test, y_pred, average='binary')\n",
    "pr1 = precision_score(y_test, y_pred, average='weighted')\n",
    "pr2 = precision_score(y_test, y_pred, average='macro')\n",
    "pr3 = precision_score(y_test, y_pred, average='micro')\n",
    "\n",
    "re1 = recall_score(y_test, y_pred, average='weighted')\n",
    "re2 = recall_score(y_test, y_pred, average='macro')\n",
    "re3 = recall_score(y_test, y_pred, average='micro')\n",
    "\n",
    "\n",
    "print(f1)\n",
    "print(f2)\n",
    "print(f3)\n",
    "print(\"---------------------\")\n",
    "print(pr1)\n",
    "print(pr2)\n",
    "print(pr3)\n",
    "print(\"---------------------\")\n",
    "\n",
    "print(re1)\n",
    "print(re2)\n",
    "print(re3)\n",
    "\n",
    "\n",
    "# print(accuracy3)\n",
    "\n",
    "conf_matrix = confusion_matrix(y_test, y_pred)\n",
    "print(conf_matrix)"
   ],
   "metadata": {
    "collapsed": false,
    "ExecuteTime": {
     "end_time": "2024-11-13T01:58:54.784328Z",
     "start_time": "2024-11-13T01:58:54.545324Z"
    }
   },
   "id": "651023718eeb15af",
   "execution_count": 16
  },
  {
   "cell_type": "code",
   "outputs": [
    {
     "name": "stdout",
     "output_type": "stream",
     "text": [
      "                    precision    recall  f1-score   support\n",
      "\n",
      "            Benign       1.00      1.00      1.00    255981\n",
      "          Cover up       0.00      0.00      0.00        36\n",
      " Data Exfiltration       0.21      0.22      0.21       553\n",
      "Establish Foothold       0.20      0.20      0.20      2710\n",
      "  Lateral Movement       0.06      0.06      0.06      2727\n",
      "    Reconnaissance       1.00      1.00      1.00      1199\n",
      "\n",
      "          accuracy                           0.98    263206\n",
      "         macro avg       0.41      0.41      0.41    263206\n",
      "      weighted avg       0.98      0.98      0.98    263206\n"
     ]
    }
   ],
   "source": [
    "print(classification_report(y_test, y_pred))"
   ],
   "metadata": {
    "collapsed": false,
    "ExecuteTime": {
     "end_time": "2024-11-11T16:38:09.013337Z",
     "start_time": "2024-11-11T16:38:02.901531Z"
    }
   },
   "id": "d08ec46316135212",
   "execution_count": 30
  },
  {
   "cell_type": "code",
   "outputs": [],
   "source": [
    "<h1></h1>"
   ],
   "metadata": {
    "collapsed": false
   },
   "id": "8143112005122bd9"
  },
  {
   "cell_type": "code",
   "outputs": [],
   "source": [
    "import xgboost as xgb\n",
    "xgb_apt2021 = xgb.XGBClassifier(objective='multi:softmax')"
   ],
   "metadata": {
    "collapsed": false,
    "ExecuteTime": {
     "end_time": "2024-11-13T01:59:41.928295Z",
     "start_time": "2024-11-13T01:59:41.728448Z"
    }
   },
   "id": "26724507b6b8653e",
   "execution_count": 17
  },
  {
   "cell_type": "code",
   "outputs": [
    {
     "data": {
      "text/plain": "XGBClassifier(base_score=None, booster=None, callbacks=None,\n              colsample_bylevel=None, colsample_bynode=None,\n              colsample_bytree=None, device=None, early_stopping_rounds=None,\n              enable_categorical=False, eval_metric=None, feature_types=None,\n              gamma=None, grow_policy=None, importance_type=None,\n              interaction_constraints=None, learning_rate=None, max_bin=None,\n              max_cat_threshold=None, max_cat_to_onehot=None,\n              max_delta_step=None, max_depth=None, max_leaves=None,\n              min_child_weight=None, missing=nan, monotone_constraints=None,\n              multi_strategy=None, n_estimators=None, n_jobs=None,\n              num_parallel_tree=None, objective='multi:softmax', ...)",
      "text/html": "<style>#sk-container-id-2 {\n  /* Definition of color scheme common for light and dark mode */\n  --sklearn-color-text: black;\n  --sklearn-color-line: gray;\n  /* Definition of color scheme for unfitted estimators */\n  --sklearn-color-unfitted-level-0: #fff5e6;\n  --sklearn-color-unfitted-level-1: #f6e4d2;\n  --sklearn-color-unfitted-level-2: #ffe0b3;\n  --sklearn-color-unfitted-level-3: chocolate;\n  /* Definition of color scheme for fitted estimators */\n  --sklearn-color-fitted-level-0: #f0f8ff;\n  --sklearn-color-fitted-level-1: #d4ebff;\n  --sklearn-color-fitted-level-2: #b3dbfd;\n  --sklearn-color-fitted-level-3: cornflowerblue;\n\n  /* Specific color for light theme */\n  --sklearn-color-text-on-default-background: var(--sg-text-color, var(--theme-code-foreground, var(--jp-content-font-color1, black)));\n  --sklearn-color-background: var(--sg-background-color, var(--theme-background, var(--jp-layout-color0, white)));\n  --sklearn-color-border-box: var(--sg-text-color, var(--theme-code-foreground, var(--jp-content-font-color1, black)));\n  --sklearn-color-icon: #696969;\n\n  @media (prefers-color-scheme: dark) {\n    /* Redefinition of color scheme for dark theme */\n    --sklearn-color-text-on-default-background: var(--sg-text-color, var(--theme-code-foreground, var(--jp-content-font-color1, white)));\n    --sklearn-color-background: var(--sg-background-color, var(--theme-background, var(--jp-layout-color0, #111)));\n    --sklearn-color-border-box: var(--sg-text-color, var(--theme-code-foreground, var(--jp-content-font-color1, white)));\n    --sklearn-color-icon: #878787;\n  }\n}\n\n#sk-container-id-2 {\n  color: var(--sklearn-color-text);\n}\n\n#sk-container-id-2 pre {\n  padding: 0;\n}\n\n#sk-container-id-2 input.sk-hidden--visually {\n  border: 0;\n  clip: rect(1px 1px 1px 1px);\n  clip: rect(1px, 1px, 1px, 1px);\n  height: 1px;\n  margin: -1px;\n  overflow: hidden;\n  padding: 0;\n  position: absolute;\n  width: 1px;\n}\n\n#sk-container-id-2 div.sk-dashed-wrapped {\n  border: 1px dashed var(--sklearn-color-line);\n  margin: 0 0.4em 0.5em 0.4em;\n  box-sizing: border-box;\n  padding-bottom: 0.4em;\n  background-color: var(--sklearn-color-background);\n}\n\n#sk-container-id-2 div.sk-container {\n  /* jupyter's `normalize.less` sets `[hidden] { display: none; }`\n     but bootstrap.min.css set `[hidden] { display: none !important; }`\n     so we also need the `!important` here to be able to override the\n     default hidden behavior on the sphinx rendered scikit-learn.org.\n     See: https://github.com/scikit-learn/scikit-learn/issues/21755 */\n  display: inline-block !important;\n  position: relative;\n}\n\n#sk-container-id-2 div.sk-text-repr-fallback {\n  display: none;\n}\n\ndiv.sk-parallel-item,\ndiv.sk-serial,\ndiv.sk-item {\n  /* draw centered vertical line to link estimators */\n  background-image: linear-gradient(var(--sklearn-color-text-on-default-background), var(--sklearn-color-text-on-default-background));\n  background-size: 2px 100%;\n  background-repeat: no-repeat;\n  background-position: center center;\n}\n\n/* Parallel-specific style estimator block */\n\n#sk-container-id-2 div.sk-parallel-item::after {\n  content: \"\";\n  width: 100%;\n  border-bottom: 2px solid var(--sklearn-color-text-on-default-background);\n  flex-grow: 1;\n}\n\n#sk-container-id-2 div.sk-parallel {\n  display: flex;\n  align-items: stretch;\n  justify-content: center;\n  background-color: var(--sklearn-color-background);\n  position: relative;\n}\n\n#sk-container-id-2 div.sk-parallel-item {\n  display: flex;\n  flex-direction: column;\n}\n\n#sk-container-id-2 div.sk-parallel-item:first-child::after {\n  align-self: flex-end;\n  width: 50%;\n}\n\n#sk-container-id-2 div.sk-parallel-item:last-child::after {\n  align-self: flex-start;\n  width: 50%;\n}\n\n#sk-container-id-2 div.sk-parallel-item:only-child::after {\n  width: 0;\n}\n\n/* Serial-specific style estimator block */\n\n#sk-container-id-2 div.sk-serial {\n  display: flex;\n  flex-direction: column;\n  align-items: center;\n  background-color: var(--sklearn-color-background);\n  padding-right: 1em;\n  padding-left: 1em;\n}\n\n\n/* Toggleable style: style used for estimator/Pipeline/ColumnTransformer box that is\nclickable and can be expanded/collapsed.\n- Pipeline and ColumnTransformer use this feature and define the default style\n- Estimators will overwrite some part of the style using the `sk-estimator` class\n*/\n\n/* Pipeline and ColumnTransformer style (default) */\n\n#sk-container-id-2 div.sk-toggleable {\n  /* Default theme specific background. It is overwritten whether we have a\n  specific estimator or a Pipeline/ColumnTransformer */\n  background-color: var(--sklearn-color-background);\n}\n\n/* Toggleable label */\n#sk-container-id-2 label.sk-toggleable__label {\n  cursor: pointer;\n  display: block;\n  width: 100%;\n  margin-bottom: 0;\n  padding: 0.5em;\n  box-sizing: border-box;\n  text-align: center;\n}\n\n#sk-container-id-2 label.sk-toggleable__label-arrow:before {\n  /* Arrow on the left of the label */\n  content: \"▸\";\n  float: left;\n  margin-right: 0.25em;\n  color: var(--sklearn-color-icon);\n}\n\n#sk-container-id-2 label.sk-toggleable__label-arrow:hover:before {\n  color: var(--sklearn-color-text);\n}\n\n/* Toggleable content - dropdown */\n\n#sk-container-id-2 div.sk-toggleable__content {\n  max-height: 0;\n  max-width: 0;\n  overflow: hidden;\n  text-align: left;\n  /* unfitted */\n  background-color: var(--sklearn-color-unfitted-level-0);\n}\n\n#sk-container-id-2 div.sk-toggleable__content.fitted {\n  /* fitted */\n  background-color: var(--sklearn-color-fitted-level-0);\n}\n\n#sk-container-id-2 div.sk-toggleable__content pre {\n  margin: 0.2em;\n  border-radius: 0.25em;\n  color: var(--sklearn-color-text);\n  /* unfitted */\n  background-color: var(--sklearn-color-unfitted-level-0);\n}\n\n#sk-container-id-2 div.sk-toggleable__content.fitted pre {\n  /* unfitted */\n  background-color: var(--sklearn-color-fitted-level-0);\n}\n\n#sk-container-id-2 input.sk-toggleable__control:checked~div.sk-toggleable__content {\n  /* Expand drop-down */\n  max-height: 200px;\n  max-width: 100%;\n  overflow: auto;\n}\n\n#sk-container-id-2 input.sk-toggleable__control:checked~label.sk-toggleable__label-arrow:before {\n  content: \"▾\";\n}\n\n/* Pipeline/ColumnTransformer-specific style */\n\n#sk-container-id-2 div.sk-label input.sk-toggleable__control:checked~label.sk-toggleable__label {\n  color: var(--sklearn-color-text);\n  background-color: var(--sklearn-color-unfitted-level-2);\n}\n\n#sk-container-id-2 div.sk-label.fitted input.sk-toggleable__control:checked~label.sk-toggleable__label {\n  background-color: var(--sklearn-color-fitted-level-2);\n}\n\n/* Estimator-specific style */\n\n/* Colorize estimator box */\n#sk-container-id-2 div.sk-estimator input.sk-toggleable__control:checked~label.sk-toggleable__label {\n  /* unfitted */\n  background-color: var(--sklearn-color-unfitted-level-2);\n}\n\n#sk-container-id-2 div.sk-estimator.fitted input.sk-toggleable__control:checked~label.sk-toggleable__label {\n  /* fitted */\n  background-color: var(--sklearn-color-fitted-level-2);\n}\n\n#sk-container-id-2 div.sk-label label.sk-toggleable__label,\n#sk-container-id-2 div.sk-label label {\n  /* The background is the default theme color */\n  color: var(--sklearn-color-text-on-default-background);\n}\n\n/* On hover, darken the color of the background */\n#sk-container-id-2 div.sk-label:hover label.sk-toggleable__label {\n  color: var(--sklearn-color-text);\n  background-color: var(--sklearn-color-unfitted-level-2);\n}\n\n/* Label box, darken color on hover, fitted */\n#sk-container-id-2 div.sk-label.fitted:hover label.sk-toggleable__label.fitted {\n  color: var(--sklearn-color-text);\n  background-color: var(--sklearn-color-fitted-level-2);\n}\n\n/* Estimator label */\n\n#sk-container-id-2 div.sk-label label {\n  font-family: monospace;\n  font-weight: bold;\n  display: inline-block;\n  line-height: 1.2em;\n}\n\n#sk-container-id-2 div.sk-label-container {\n  text-align: center;\n}\n\n/* Estimator-specific */\n#sk-container-id-2 div.sk-estimator {\n  font-family: monospace;\n  border: 1px dotted var(--sklearn-color-border-box);\n  border-radius: 0.25em;\n  box-sizing: border-box;\n  margin-bottom: 0.5em;\n  /* unfitted */\n  background-color: var(--sklearn-color-unfitted-level-0);\n}\n\n#sk-container-id-2 div.sk-estimator.fitted {\n  /* fitted */\n  background-color: var(--sklearn-color-fitted-level-0);\n}\n\n/* on hover */\n#sk-container-id-2 div.sk-estimator:hover {\n  /* unfitted */\n  background-color: var(--sklearn-color-unfitted-level-2);\n}\n\n#sk-container-id-2 div.sk-estimator.fitted:hover {\n  /* fitted */\n  background-color: var(--sklearn-color-fitted-level-2);\n}\n\n/* Specification for estimator info (e.g. \"i\" and \"?\") */\n\n/* Common style for \"i\" and \"?\" */\n\n.sk-estimator-doc-link,\na:link.sk-estimator-doc-link,\na:visited.sk-estimator-doc-link {\n  float: right;\n  font-size: smaller;\n  line-height: 1em;\n  font-family: monospace;\n  background-color: var(--sklearn-color-background);\n  border-radius: 1em;\n  height: 1em;\n  width: 1em;\n  text-decoration: none !important;\n  margin-left: 1ex;\n  /* unfitted */\n  border: var(--sklearn-color-unfitted-level-1) 1pt solid;\n  color: var(--sklearn-color-unfitted-level-1);\n}\n\n.sk-estimator-doc-link.fitted,\na:link.sk-estimator-doc-link.fitted,\na:visited.sk-estimator-doc-link.fitted {\n  /* fitted */\n  border: var(--sklearn-color-fitted-level-1) 1pt solid;\n  color: var(--sklearn-color-fitted-level-1);\n}\n\n/* On hover */\ndiv.sk-estimator:hover .sk-estimator-doc-link:hover,\n.sk-estimator-doc-link:hover,\ndiv.sk-label-container:hover .sk-estimator-doc-link:hover,\n.sk-estimator-doc-link:hover {\n  /* unfitted */\n  background-color: var(--sklearn-color-unfitted-level-3);\n  color: var(--sklearn-color-background);\n  text-decoration: none;\n}\n\ndiv.sk-estimator.fitted:hover .sk-estimator-doc-link.fitted:hover,\n.sk-estimator-doc-link.fitted:hover,\ndiv.sk-label-container:hover .sk-estimator-doc-link.fitted:hover,\n.sk-estimator-doc-link.fitted:hover {\n  /* fitted */\n  background-color: var(--sklearn-color-fitted-level-3);\n  color: var(--sklearn-color-background);\n  text-decoration: none;\n}\n\n/* Span, style for the box shown on hovering the info icon */\n.sk-estimator-doc-link span {\n  display: none;\n  z-index: 9999;\n  position: relative;\n  font-weight: normal;\n  right: .2ex;\n  padding: .5ex;\n  margin: .5ex;\n  width: min-content;\n  min-width: 20ex;\n  max-width: 50ex;\n  color: var(--sklearn-color-text);\n  box-shadow: 2pt 2pt 4pt #999;\n  /* unfitted */\n  background: var(--sklearn-color-unfitted-level-0);\n  border: .5pt solid var(--sklearn-color-unfitted-level-3);\n}\n\n.sk-estimator-doc-link.fitted span {\n  /* fitted */\n  background: var(--sklearn-color-fitted-level-0);\n  border: var(--sklearn-color-fitted-level-3);\n}\n\n.sk-estimator-doc-link:hover span {\n  display: block;\n}\n\n/* \"?\"-specific style due to the `<a>` HTML tag */\n\n#sk-container-id-2 a.estimator_doc_link {\n  float: right;\n  font-size: 1rem;\n  line-height: 1em;\n  font-family: monospace;\n  background-color: var(--sklearn-color-background);\n  border-radius: 1rem;\n  height: 1rem;\n  width: 1rem;\n  text-decoration: none;\n  /* unfitted */\n  color: var(--sklearn-color-unfitted-level-1);\n  border: var(--sklearn-color-unfitted-level-1) 1pt solid;\n}\n\n#sk-container-id-2 a.estimator_doc_link.fitted {\n  /* fitted */\n  border: var(--sklearn-color-fitted-level-1) 1pt solid;\n  color: var(--sklearn-color-fitted-level-1);\n}\n\n/* On hover */\n#sk-container-id-2 a.estimator_doc_link:hover {\n  /* unfitted */\n  background-color: var(--sklearn-color-unfitted-level-3);\n  color: var(--sklearn-color-background);\n  text-decoration: none;\n}\n\n#sk-container-id-2 a.estimator_doc_link.fitted:hover {\n  /* fitted */\n  background-color: var(--sklearn-color-fitted-level-3);\n}\n</style><div id=\"sk-container-id-2\" class=\"sk-top-container\"><div class=\"sk-text-repr-fallback\"><pre>XGBClassifier(base_score=None, booster=None, callbacks=None,\n              colsample_bylevel=None, colsample_bynode=None,\n              colsample_bytree=None, device=None, early_stopping_rounds=None,\n              enable_categorical=False, eval_metric=None, feature_types=None,\n              gamma=None, grow_policy=None, importance_type=None,\n              interaction_constraints=None, learning_rate=None, max_bin=None,\n              max_cat_threshold=None, max_cat_to_onehot=None,\n              max_delta_step=None, max_depth=None, max_leaves=None,\n              min_child_weight=None, missing=nan, monotone_constraints=None,\n              multi_strategy=None, n_estimators=None, n_jobs=None,\n              num_parallel_tree=None, objective=&#x27;multi:softmax&#x27;, ...)</pre><b>In a Jupyter environment, please rerun this cell to show the HTML representation or trust the notebook. <br />On GitHub, the HTML representation is unable to render, please try loading this page with nbviewer.org.</b></div><div class=\"sk-container\" hidden><div class=\"sk-item\"><div class=\"sk-estimator fitted sk-toggleable\"><input class=\"sk-toggleable__control sk-hidden--visually\" id=\"sk-estimator-id-2\" type=\"checkbox\" checked><label for=\"sk-estimator-id-2\" class=\"sk-toggleable__label fitted sk-toggleable__label-arrow fitted\">&nbsp;XGBClassifier<span class=\"sk-estimator-doc-link fitted\">i<span>Fitted</span></span></label><div class=\"sk-toggleable__content fitted\"><pre>XGBClassifier(base_score=None, booster=None, callbacks=None,\n              colsample_bylevel=None, colsample_bynode=None,\n              colsample_bytree=None, device=None, early_stopping_rounds=None,\n              enable_categorical=False, eval_metric=None, feature_types=None,\n              gamma=None, grow_policy=None, importance_type=None,\n              interaction_constraints=None, learning_rate=None, max_bin=None,\n              max_cat_threshold=None, max_cat_to_onehot=None,\n              max_delta_step=None, max_depth=None, max_leaves=None,\n              min_child_weight=None, missing=nan, monotone_constraints=None,\n              multi_strategy=None, n_estimators=None, n_jobs=None,\n              num_parallel_tree=None, objective=&#x27;multi:softmax&#x27;, ...)</pre></div> </div></div></div></div>"
     },
     "execution_count": 18,
     "metadata": {},
     "output_type": "execute_result"
    }
   ],
   "source": [
    "xgb_apt2021.fit(x_train, y_train)"
   ],
   "metadata": {
    "collapsed": false,
    "ExecuteTime": {
     "end_time": "2024-11-13T02:00:52.743484Z",
     "start_time": "2024-11-13T01:59:43.659837Z"
    }
   },
   "id": "6870eb098f69233e",
   "execution_count": 18
  },
  {
   "cell_type": "code",
   "outputs": [
    {
     "name": "stdout",
     "output_type": "stream",
     "text": [
      "0.9880207897996246\n",
      "[[255790      0    155      6     15     15]\n",
      " [     0   1199      0      0      0      0]\n",
      " [     3      0   2285    422      0      0]\n",
      " [     7      0   1981    315    424      0]\n",
      " [     5      0     49     33    464      2]\n",
      " [    16      0      0      0     20      0]]\n",
      "              precision    recall  f1-score   support\n",
      "\n",
      "           0       1.00      1.00      1.00    255981\n",
      "           1       1.00      1.00      1.00      1199\n",
      "           2       0.51      0.84      0.64      2710\n",
      "           3       0.41      0.12      0.18      2727\n",
      "           4       0.50      0.84      0.63       553\n",
      "           5       0.00      0.00      0.00        36\n",
      "\n",
      "    accuracy                           0.99    263206\n",
      "   macro avg       0.57      0.63      0.57    263206\n",
      "weighted avg       0.99      0.99      0.99    263206\n"
     ]
    }
   ],
   "source": [
    "y_pred = xgb_apt2021.predict(x_test)\n",
    "\n",
    "# Calculate accuracy\n",
    "accuracy = accuracy_score(y_test, y_pred)\n",
    "print(accuracy)\n",
    "\n",
    "\n",
    "conf_matrix = confusion_matrix(y_test, y_pred)\n",
    "print(conf_matrix)\n",
    "\n",
    "print(classification_report(y_test, y_pred))"
   ],
   "metadata": {
    "collapsed": false,
    "ExecuteTime": {
     "end_time": "2024-11-13T02:00:53.411594Z",
     "start_time": "2024-11-13T02:00:52.743995Z"
    }
   },
   "id": "ba318b7bff6b8af3",
   "execution_count": 19
  },
  {
   "cell_type": "code",
   "outputs": [
    {
     "name": "stdout",
     "output_type": "stream",
     "text": [
      "0.9864212029304202\n",
      "0.5741047704804841\n",
      "0.9880207897996246\n",
      "---------------------\n",
      "0.987512658715556\n",
      "0.569950149657415\n",
      "0.9880207897996246\n",
      "---------------------\n",
      "0.9880207897996246\n",
      "0.6328330847106484\n",
      "0.9880207897996246\n",
      "[[255790      0    155      6     15     15]\n",
      " [     0   1199      0      0      0      0]\n",
      " [     3      0   2285    422      0      0]\n",
      " [     7      0   1981    315    424      0]\n",
      " [     5      0     49     33    464      2]\n",
      " [    16      0      0      0     20      0]]\n"
     ]
    }
   ],
   "source": [
    "f1 = f1_score(y_test, y_pred, average='weighted')\n",
    "f2 = f1_score(y_test, y_pred, average='macro')\n",
    "f3 = f1_score(y_test, y_pred, average='micro')\n",
    "# accuracy3 = f1_score(y_test, y_pred, average='binary')\n",
    "pr1 = precision_score(y_test, y_pred, average='weighted')\n",
    "pr2 = precision_score(y_test, y_pred, average='macro')\n",
    "pr3 = precision_score(y_test, y_pred, average='micro')\n",
    "\n",
    "re1 = recall_score(y_test, y_pred, average='weighted')\n",
    "re2 = recall_score(y_test, y_pred, average='macro')\n",
    "re3 = recall_score(y_test, y_pred, average='micro')\n",
    "\n",
    "\n",
    "print(f1)\n",
    "print(f2)\n",
    "print(f3)\n",
    "print(\"---------------------\")\n",
    "print(pr1)\n",
    "print(pr2)\n",
    "print(pr3)\n",
    "print(\"---------------------\")\n",
    "\n",
    "print(re1)\n",
    "print(re2)\n",
    "print(re3)\n",
    "\n",
    "\n",
    "# print(accuracy3)\n",
    "\n",
    "conf_matrix = confusion_matrix(y_test, y_pred)\n",
    "print(conf_matrix)"
   ],
   "metadata": {
    "collapsed": false,
    "ExecuteTime": {
     "end_time": "2024-11-13T02:02:35.538755Z",
     "start_time": "2024-11-13T02:02:35.359879Z"
    }
   },
   "id": "e37c3c6ebf8784a4",
   "execution_count": 20
  },
  {
   "cell_type": "code",
   "outputs": [],
   "source": [],
   "metadata": {
    "collapsed": false
   },
   "id": "58ca349c8c6abe4c"
  }
 ],
 "metadata": {
  "kernelspec": {
   "display_name": "Python 3",
   "language": "python",
   "name": "python3"
  },
  "language_info": {
   "codemirror_mode": {
    "name": "ipython",
    "version": 2
   },
   "file_extension": ".py",
   "mimetype": "text/x-python",
   "name": "python",
   "nbconvert_exporter": "python",
   "pygments_lexer": "ipython2",
   "version": "2.7.6"
  }
 },
 "nbformat": 4,
 "nbformat_minor": 5
}
