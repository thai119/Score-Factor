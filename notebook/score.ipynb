{
 "cells": [
  {
   "cell_type": "code",
   "execution_count": null,
   "metadata": {
    "vscode": {
     "languageId": "plaintext"
    }
   },
   "outputs": [],
   "source": [
    "import numpy as np\n",
    "import pandas as pd\n",
    "\n",
    "# Đọc file CSV\n",
    "file_path = \"D:/code/gr1/data/dataset/test_network.csv\"\n",
    "data = pd.read_csv(file_path)\n",
    "\n",
    "# Hiển thị các cột trong file để kiểm tra\n",
    "print(\"Các cột trong dữ liệu:\")\n",
    "print(data.columns)\n",
    "\n",
    "# Lấy các đặc trưng cần thiết giống với khi huấn luyện\n",
    "list_features = [\n",
    "    'bidirectional_duration_ms', 'src2dst_duration_ms',\n",
    "    'dst2src_duration_ms', 'src2dst_packets', 'dst2src_packets',\n",
    "    'src2dst_bytes', 'dst2src_bytes', 'src2dst_max_ps', 'src2dst_min_ps',\n",
    "    'src2dst_mean_ps', 'src2dst_stddev_ps', 'dst2src_max_ps', 'dst2src_min_ps',\n",
    "    'dst2src_mean_ps', 'dst2src_stddev_ps', 'bidirectional_mean_piat_ms',\n",
    "    'bidirectional_stddev_piat_ms', 'bidirectional_max_piat_ms', \n",
    "    'bidirectional_min_piat_ms','src2dst_mean_piat_ms', 'src2dst_stddev_piat_ms', \n",
    "    'src2dst_max_piat_ms', 'src2dst_min_piat_ms', 'dst2src_mean_piat_ms',\n",
    "    'dst2src_stddev_piat_ms', 'dst2src_max_piat_ms', 'dst2src_min_piat_ms', \n",
    "    'bidirectional_fin_packets', 'src2dst_fin_packets', 'dst2src_fin_packets', \n",
    "    'bidirectional_syn_packets', 'src2dst_syn_packets', 'dst2src_syn_packets',\n",
    "    'bidirectional_rst_packets', 'src2dst_rst_packets', 'dst2src_rst_packets',\n",
    "    'bidirectional_psh_packets', 'src2dst_psh_packets', 'dst2src_psh_packets', \n",
    "    'bidirectional_ack_packets', 'src2dst_ack_packets', 'dst2src_ack_packets', \n",
    "    'bidirectional_urg_packets', 'src2dst_urg_packets', \n",
    "    'bidirectional_cwr_packets', 'src2dst_cwr_packets', \n",
    "    'bidirectional_ece_packets', 'src2dst_ece_packets', 'Stage'\n",
    "]\n",
    "\n",
    "# Lọc các đặc trưng cần thiết\n",
    "df = data[list_features].copy()\n"
   ]
  },
  {
   "cell_type": "code",
   "execution_count": null,
   "metadata": {
    "vscode": {
     "languageId": "plaintext"
    }
   },
   "outputs": [],
   "source": [
    "# Giả sử stage_mapping là từ điển mà bạn đã định nghĩa\n",
    "stage_mapping = {\n",
    "    'Benign': 0,        \n",
    "    'Reconnaissance': 1,     \n",
    "    'Establish Foothold': 2,\n",
    "    'Lateral Movement': 3,\n",
    "    'Data Exfiltration': 4,\n",
    "    'Cover up': 5\n",
    "}\n",
    "\n",
    "df['Label'] = df['Stage'].map(stage_mapping)\n",
    "\n",
    "\n",
    "# Giả sử df là DataFrame đã đọc từ một tập tin CSV và có cột 'Stage'\n",
    "# In ra các giá trị duy nhất trong cột 'Stage'\n",
    "unique_stages = df['Stage'].unique()\n",
    "print(f\"Các giá trị duy nhất trong cột 'Stage': {unique_stages}\")"
   ]
  },
  {
   "cell_type": "code",
   "execution_count": null,
   "metadata": {
    "vscode": {
     "languageId": "plaintext"
    }
   },
   "outputs": [],
   "source": [
    "# Define the matrix for Attack and Defender\n",
    "matrix = {\n",
    "    'Attack': {\n",
    "        0: [(2.0, 2.5), (2.5, 3.0), (2.5, 3.0), (2.5, 3.0), (2.5, 3.0)],\n",
    "        1: [(1.0, 1.5), (1.0, 1.5), (2.0, 2.5), (2.0, 2.5), (2.5, 3.5)],\n",
    "        2: [(1.5, 2.0), (2.0, 2.5), (2.5, 3.5), (3.5, 5.0), (3.0, 5.0)],\n",
    "        3: [(1.5, 2.5), (2.0, 3.0), (2.5, 3.5), (3.5, 4.5), (3.5, 4.5)],\n",
    "        4: [(1.5, 2.5), (1.5, 2.5), (3.5, 4.5), (3.5, 4.5), (3.5, 4.5)]\n",
    "    },\n",
    "    'Defender': {\n",
    "        0: [(8.5, 9.5), (8.5, 9.5), (7.5, 8.5), (7.5, 8.5), (7.0, 8.0)],\n",
    "        1: [(7.5, 8.5), (7.5, 8.5), (7.5, 8.5), (7.5, 8.5), (7.5, 8.5)],\n",
    "        2: [(7.5, 8.5), (7.5, 8.5), (7.5, 8.5), (7.5, 8.5), (7.5, 8.5)],\n",
    "        3: [(6.5, 7.5), (6.5, 7.5), (6.5, 7.5), (6.5, 7.5), (6.5, 7.5)],\n",
    "        4: [(7.5, 8.5), (7.5, 8.5), (7.5, 8.5), (7.5, 8.5), (7.5, 8.5)]\n",
    "    }\n",
    "}"
   ]
  },
  {
   "cell_type": "code",
   "execution_count": null,
   "metadata": {
    "vscode": {
     "languageId": "plaintext"
    }
   },
   "outputs": [],
   "source": [
    "# Function to generate random points based on the matrix\n",
    "def generate_random_points(label, role, num_points=1):\n",
    "    if label not in matrix[role]:\n",
    "        raise ValueError(f\"Label '{label}' does not exist in the matrix for role '{role}'.\")\n",
    "\n",
    "    ranges = matrix[role][label]\n",
    "    random_points = []\n",
    "    for _ in range(num_points):\n",
    "        point = [round(np.random.uniform(low, high), 2) for low, high in ranges]\n",
    "        random_points.append(point)\n",
    "\n",
    "    return random_points"
   ]
  },
  {
   "cell_type": "code",
   "execution_count": null,
   "metadata": {
    "vscode": {
     "languageId": "plaintext"
    }
   },
   "outputs": [],
   "source": [
    "# Identify changes in the Label column\n",
    "df['Label_Changed'] = df['Label'].ne(df['Label'].shift()).astype(int)\n",
    "\n",
    "\n",
    "# Ensure the first label is always considered as changed\n",
    "df.loc[0, 'Label_Changed'] = 1  \n",
    "\n",
    "# Generate points only when the Label changes\n",
    "results = []\n",
    "\n",
    "# Filter rows where the Label changes (Label_Changed == 1)\n",
    "changed_rows = df[df['Label_Changed'] == 1]\n",
    "print(changed_rows)\n",
    "# Iterate over the filtered rows\n",
    "# Iterate over the filtered rows\n",
    "for idx, row in changed_rows.iterrows():\n",
    "    label = row['Label']\n",
    "    # Generate points for the current label\n",
    "    attack_points = generate_random_points(label, 'Attack')\n",
    "    defender_points = generate_random_points(label, 'Defender')\n",
    "    print(idx)\n",
    "    print(attack_points)\n",
    "    # Add the generated points to the results\n",
    "    for set_idx, (attack, defender) in enumerate(zip(attack_points, defender_points)):\n",
    "        result_row = {\n",
    "            \"Label\": label,\n",
    "            **{f\"Attack_Feature_{i+1}\": value for i, value in enumerate(attack)},\n",
    "            **{f\"Defender_Feature_{i+1}\": value for i, value in enumerate(defender)}\n",
    "        }\n",
    "        print(set_idx)\n",
    "        # Append the result_row to the results list\n",
    "        results.append(result_row)\n",
    "\n",
    "# Convert results to DataFrame\n",
    "result_df = pd.DataFrame(results)\n",
    "# \n",
    "print(result_df)\n"
   ]
  },
  {
   "cell_type": "code",
   "execution_count": null,
   "metadata": {
    "vscode": {
     "languageId": "plaintext"
    }
   },
   "outputs": [],
   "source": [
    "\n",
    "# Save the changes and generated points to a new CSV file\n",
    "output_file_path = 'D:/code/gr1/data/dataset/Book1.csv'\n",
    "result_df.to_csv(output_file_path, index=False)\n",
    "\n",
    "# Display the first few rows of the result\n",
    "pd.set_option('display.max_columns', None)\n",
    "print(result_df.head(20))"
   ]
  }
 ],
 "metadata": {
  "language_info": {
   "name": "python"
  }
 },
 "nbformat": 4,
 "nbformat_minor": 2
}
